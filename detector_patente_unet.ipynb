{
  "nbformat": 4,
  "nbformat_minor": 0,
  "metadata": {
    "colab": {
      "provenance": [],
      "include_colab_link": true
    },
    "kernelspec": {
      "name": "python3",
      "display_name": "Python 3"
    },
    "language_info": {
      "name": "python"
    }
  },
  "cells": [
    {
      "cell_type": "markdown",
      "metadata": {
        "id": "view-in-github",
        "colab_type": "text"
      },
      "source": [
        "<a href=\"https://colab.research.google.com/github/aguusandy/ic_2023/blob/master/detector_patente_unet.ipynb\" target=\"_parent\"><img src=\"https://colab.research.google.com/assets/colab-badge.svg\" alt=\"Open In Colab\"/></a>"
      ]
    },
    {
      "cell_type": "markdown",
      "source": [
        "## Detector de patentes en imagenes usando Unet como modelo de red neuronal"
      ],
      "metadata": {
        "id": "3kBIiU3buJ4w"
      }
    },
    {
      "cell_type": "code",
      "execution_count": 1,
      "metadata": {
        "id": "twNwL42xsb0z"
      },
      "outputs": [],
      "source": [
        "# IMPORTS\n",
        "# usefulls urls:\n",
        "# dataset and dataloader of pytorch: https://pytorch.org/tutorials/beginner/basics/data_tutorial.html\n",
        "# neural network of pytorch: https://pytorch.org/docs/stable/nn.html\n",
        "import torch\n",
        "import numpy as np\n",
        "import matplotlib.pyplot as plt\n",
        "import os\n",
        "from torch.utils.data import DataLoader, Dataset, random_split\n",
        "from PIL import Image\n",
        "from google.colab import drive\n",
        "from torchvision import transforms as T"
      ]
    },
    {
      "cell_type": "code",
      "source": [
        "# mount the drive files\n",
        "drive.mount('/content/drive')"
      ],
      "metadata": {
        "id": "ofKj5nQWXqCm",
        "colab": {
          "base_uri": "https://localhost:8080/"
        },
        "outputId": "d6daa28c-8a6d-4cac-d1d4-035426e36b71"
      },
      "execution_count": 7,
      "outputs": [
        {
          "output_type": "stream",
          "name": "stdout",
          "text": [
            "Mounted at /content/drive\n"
          ]
        }
      ]
    },
    {
      "cell_type": "code",
      "source": [
        "# FILE PATHS\n",
        "\n",
        "# specific path of the folder that contain the train data\n",
        "PATH_DATA = '/content/drive/MyDrive/facu/dataset/images'\n",
        "# specific path of the folder that contain the train masks\n",
        "PATH_MASK = '/content/drive/MyDrive/facu/dataset/masks'"
      ],
      "metadata": {
        "id": "eU1YrJ9pu-aR"
      },
      "execution_count": 2,
      "outputs": []
    },
    {
      "cell_type": "code",
      "source": [
        "# CONSTANTS\n",
        "\n",
        "# the number of images\n",
        "DATASET_SIZE = 3977\n",
        "# size for the batches\n",
        "BATCH_SIZE = 32\n",
        "# the size of the train that we will use for training, the rest of the train dataset will be use for monitoring\n",
        "TRAIN_SIZE = int(0.80*DATASET_SIZE)\n",
        "# the size of the test files\n",
        "TEST_SIZE = DATASET_SIZE - TRAIN_SIZE\n",
        "# the size of the validation o monitoring files\n",
        "VALID_SIZE = int(0.1*TRAIN_SIZE)"
      ],
      "metadata": {
        "id": "OVO1_mdjvG_I"
      },
      "execution_count": 26,
      "outputs": []
    },
    {
      "cell_type": "code",
      "source": [
        "# DATASET\n",
        "\n",
        "# custom class of dataset, this will load all the files of the data_path and mask_path\n",
        "class Plates_Dataset(Dataset):\n",
        "\n",
        "  def __init__(self,data_path,mask_path,transform):\n",
        "    self.data_path = data_path\n",
        "    self.mask_path = mask_path\n",
        "    self.transform = transform\n",
        "\n",
        "    self.images = os.listdir(self.data_path)\n",
        "    self.masks = os.listdir(self.mask_path)\n",
        "\n",
        "  def __len__(self):\n",
        "    return len(self.masks)\n",
        "\n",
        "  def __getitem__(self, idx):\n",
        "    img_path = os.path.join(self.data_path, self.images[idx])\n",
        "    image = Image.open(img_path)\n",
        "    mask_path = os.path.join(self.mask_path, self.masks[idx])\n",
        "    mask = Image.open(mask_path)\n",
        "    if self.transform:\n",
        "      image = self.transform(image)\n",
        "      masks = self.transform(mask)\n",
        "    return image, mask"
      ],
      "metadata": {
        "id": "VkvQmdWtvSTC"
      },
      "execution_count": 4,
      "outputs": []
    },
    {
      "cell_type": "code",
      "source": [
        "# transforms\n",
        "\n",
        "# transform = T.Compose([T.Resize([224, 224]),T.ToTensor()] )\n",
        "transform = T.ToTensor()"
      ],
      "metadata": {
        "id": "Zg5YPh_5iMGa"
      },
      "execution_count": 5,
      "outputs": []
    },
    {
      "cell_type": "code",
      "source": [
        "# call the plates_dataset class and upload all the fiels\n",
        "full_dataset = Plates_Dataset(PATH_DATA,PATH_MASK,transform)"
      ],
      "metadata": {
        "id": "REx7h2s_zJkQ"
      },
      "execution_count": 8,
      "outputs": []
    },
    {
      "cell_type": "code",
      "source": [
        "# split the complete train_dataset in two tensors:\n",
        "# one t_dataset only for train\n",
        "# the second test_dataset for testing\n",
        "\n",
        "t_dataset, test_dataset = random_split(full_dataset, [TRAIN_SIZE, TEST_SIZE])"
      ],
      "metadata": {
        "id": "5KxyzvJ-0SLB"
      },
      "execution_count": 10,
      "outputs": []
    },
    {
      "cell_type": "code",
      "source": [
        "\n",
        "# t_dataset split it self as train and validation\n",
        "train_dataset, valid_dataset = random_split(t_dataset, [TRAIN_SIZE-VALID_SIZE, VALID_SIZE])"
      ],
      "metadata": {
        "id": "L9RVOWNsTmoc"
      },
      "execution_count": 31,
      "outputs": []
    },
    {
      "cell_type": "code",
      "source": [
        "# DATALOADER\n",
        "\n",
        "# Preparing your data for training with DataLoaders\n",
        "train_loader = DataLoader(train_dataset, batch_size=BATCH_SIZE, shuffle=True)\n",
        "monitor_loader = DataLoader(valid_dataset, batch_size=BATCH_SIZE, shuffle=True)"
      ],
      "metadata": {
        "id": "RKJkUvc-vTw4"
      },
      "execution_count": null,
      "outputs": []
    },
    {
      "cell_type": "code",
      "source": [
        "# PLOT THE BATCH\n",
        "\n",
        "# this function plot the images and their masks\n",
        "def plot_batch(batch_size,imgs,masks):\n",
        "  for i in range(0,batch_size):\n",
        "    return 0"
      ],
      "metadata": {
        "id": "eA9wE15T9XVT"
      },
      "execution_count": null,
      "outputs": []
    },
    {
      "cell_type": "code",
      "source": [
        "# UNET MODEL\n",
        "\n",
        "# class that implement the architecture of the convolution network of Unet\n",
        "class Unet():\n",
        "  def __init__(self):\n",
        "    return 0"
      ],
      "metadata": {
        "id": "z5LThMpyvUdB"
      },
      "execution_count": null,
      "outputs": []
    },
    {
      "cell_type": "code",
      "source": [
        "# TRAIN"
      ],
      "metadata": {
        "id": "MAr_P4f8vVs-"
      },
      "execution_count": null,
      "outputs": []
    },
    {
      "cell_type": "code",
      "source": [
        "# TEST"
      ],
      "metadata": {
        "id": "dDHfWGgjvWiC"
      },
      "execution_count": null,
      "outputs": []
    }
  ]
}