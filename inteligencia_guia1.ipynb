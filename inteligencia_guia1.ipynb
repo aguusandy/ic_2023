{
  "nbformat": 4,
  "nbformat_minor": 0,
  "metadata": {
    "colab": {
      "provenance": [],
      "include_colab_link": true
    },
    "kernelspec": {
      "name": "python3",
      "display_name": "Python 3"
    },
    "language_info": {
      "name": "python"
    }
  },
  "cells": [
    {
      "cell_type": "markdown",
      "metadata": {
        "id": "view-in-github",
        "colab_type": "text"
      },
      "source": [
        "<a href=\"https://colab.research.google.com/github/aguusandy/ic_2023/blob/master/inteligencia_guia1.ipynb\" target=\"_parent\"><img src=\"https://colab.research.google.com/assets/colab-badge.svg\" alt=\"Open In Colab\"/></a>"
      ]
    },
    {
      "cell_type": "markdown",
      "source": [
        "# Guia Practica 1 IC 2023"
      ],
      "metadata": {
        "id": "EAGDDUWxhdMc"
      }
    },
    {
      "cell_type": "markdown",
      "source": [
        "## Ejercicio 1\n",
        "Implemente rutinas que permitan el entrenamiento y prueba de un\n",
        "perceptr ́on simple con una cantidad variable de entradas. Se deben tener en cuenta las siguientes capacidades:\n",
        "\n",
        "*   lectura de los patrones de entrenamiento (entradas y salidas) desde unarchivo en formato texto separado por comas,\n",
        "*   selecci ́on del criterio de finalizaci ́on del entrenamiento y el numero maximo de epocas,\n",
        "*   seleccion de la tasa de aprendizaje,\n",
        "*   prueba del perceptr ́on entrenado mediante archivos de texto con el mismo formato separado por comas.\n",
        "\n",
        "Una vez obtenido dicho programa, pru ́ebelo en la resoluci ́on del problema OR,utilizando los archivos de patrones OR trn.csv y OR tst.csv para el entrenamiento y la prueba, respectivamente. Los patrones que se proveen en estos archivos fueron generados a partir de los puntos (1,1), (1,-1), (-1,1) y (-1,-1) con peque ̃nas desviaciones aleatorias (< 5 %) en torno a  ́estos. Recuerde que para que la prueba tenga validez se deben utilizar patrones nunca presentados en el entrenamiento, para  ́esto se dispone de dos archivos de datos iferentes."
      ],
      "metadata": {
        "id": "VPs0Gw7dhgI0"
      }
    },
    {
      "cell_type": "code",
      "execution_count": null,
      "metadata": {
        "id": "7L3gJ2nOgHpq"
      },
      "outputs": [],
      "source": [
        "# cargamos los datos de entrenamiento\n",
        "import numpy as np\n",
        "datos_entrenamiento = np.genfromtxt(\"OR_trn.csv\", delimiter=\",\" , skip_header=1)\n",
        "datos_entrenamiento = datos_entrenamiento[0:99]\n",
        "pesos = np.random.rand(3)-0.5\n",
        "print('pesos: ',pesos)"
      ]
    },
    {
      "cell_type": "code",
      "source": [
        "# entrenamiento de la red\n",
        "epoca = 0\n",
        "eta = 0.05\n",
        "errores = []\n",
        "while (epoca < 1000):\n",
        "  contador_error = 0\n",
        "  for i in np.arange(0,len(datos_entrenamiento)):\n",
        "    patron_i = datos_entrenamiento[i]\n",
        "    entradas = np.array( [-1,patron_i[0],patron_i[1]])\n",
        "    yd = patron_i[2]\n",
        "    v = np.dot(entradas,pesos)\n",
        "    y = np.sign(v)\n",
        "    error = yd - y\n",
        "    if (error != 0):\n",
        "      contador_error+=1\n",
        "      aux= ((eta/2) *error) *entradas\n",
        "      pesos = pesos + aux\n",
        "  errores.append(contador_error)\n",
        "  if (contador_error/len(datos_entrenamiento) < 0.001):\n",
        "    break\n",
        "  epoca+=1\n",
        "print('cantidad de epocas iteradas: ',epoca)\n",
        "import matplotlib.pyplot as plt\n",
        "plt.plot(errores)\n",
        "plt.show()"
      ],
      "metadata": {
        "id": "dldp4TsbuDHz"
      },
      "execution_count": null,
      "outputs": []
    },
    {
      "cell_type": "code",
      "source": [
        "# prueba de la red\n",
        "datos_prueba = np.genfromtxt(\"OR_tst.csv\", delimiter=\",\" , skip_header=1)\n",
        "contador_error = 0\n",
        "for i in np.arange(0,len(datos_prueba)):\n",
        " patron_i = datos_prueba[i]\n",
        " entradas = np.array( [-1,patron_i[0],patron_i[1]])\n",
        " yd = patron_i[2]\n",
        " v = np.dot(entradas,pesos)\n",
        " y = np.sign(v)\n",
        " error = yd - y\n",
        " if (error != 0):\n",
        "  contador_error+=1\n",
        "print('porcentaje errores: ', contador_error/len(datos_prueba))"
      ],
      "metadata": {
        "colab": {
          "base_uri": "https://localhost:8080/"
        },
        "id": "J0j-XIoI1vyr",
        "outputId": "4f0f532a-cc7a-4c9c-edb0-2b0291398f90"
      },
      "execution_count": null,
      "outputs": [
        {
          "output_type": "stream",
          "name": "stdout",
          "text": [
            "0.0\n"
          ]
        }
      ]
    },
    {
      "cell_type": "markdown",
      "source": [
        "## Ejercicio 2\n",
        "Implemente una rutina de graficacion que permita visualizar, para el caso de dos entradas, los patrones utilizados y la recta de separacion que se va ajustando durante el entrenamiento del perceptron simple. Utilice dicha rutina para visualizar el entrenamiento en los problemas OR y XOR (utilizando los archivos de datos OR trn.csv y XOR trn.csv)."
      ],
      "metadata": {
        "id": "ApJzxkyMhnpZ"
      }
    },
    {
      "cell_type": "code",
      "source": [
        "import numpy as np\n",
        "datos_entrenamiento2 = np.genfromtxt(\"OR_trn.csv\", delimiter=\",\" , skip_header=1)\n",
        "datos_entrenamiento2 = datos_entrenamiento2[0:99]\n",
        "datos_entrenamiento_xor = np.genfromtxt(\"XOR_trn.csv\", delimiter=\",\" , skip_header=1)\n",
        "datos_entrenamiento_xor = datos_entrenamiento_xor[0:99]"
      ],
      "metadata": {
        "id": "xEeYcd2mABfh"
      },
      "execution_count": null,
      "outputs": []
    },
    {
      "cell_type": "code",
      "source": [
        "pesos = np.random.rand(3)-0.5\n",
        "pesos_xor = np.random.rand(3)-0.5\n",
        "print('pesos or',pesos)\n",
        "print('pesos xor',pesos_xor)"
      ],
      "metadata": {
        "colab": {
          "base_uri": "https://localhost:8080/"
        },
        "id": "ncXe-R9-yurZ",
        "outputId": "afe4df95-4d8d-480c-c591-7624c1086a06"
      },
      "execution_count": null,
      "outputs": [
        {
          "output_type": "stream",
          "name": "stdout",
          "text": [
            "pesos or [-0.06382923 -0.22910269 -0.271645  ]\n",
            "pesos xor [ 0.37173818  0.0007128  -0.40610617]\n"
          ]
        }
      ]
    },
    {
      "cell_type": "code",
      "source": [
        "def gen_entradas(x):\n",
        "  n = len(x)\n",
        "  res1 = []\n",
        "  res2 = []\n",
        "  for i in np.arange(0,n):\n",
        "    aux = x[i]\n",
        "    if (aux[2] == 1):\n",
        "      res1.append([aux[0],aux[1]])\n",
        "    else:\n",
        "      res2.append([aux[0],aux[1]])\n",
        "  return res1,res2\n"
      ],
      "metadata": {
        "id": "XXdZEdU9Bqbu"
      },
      "execution_count": null,
      "outputs": []
    },
    {
      "cell_type": "code",
      "source": [
        "epoca = 0\n",
        "eta = 0.05\n",
        "# datos de or\n",
        "entradas1,entradas2 = gen_entradas(datos_entrenamiento2)\n",
        "x_aux = np.arange(-2,2,0.1)\n",
        "pesos_v = []\n",
        "while (epoca < 1000):\n",
        "  contador_error = 0\n",
        "  for i in np.arange(0,len(datos_entrenamiento2)):\n",
        "    patron_i = datos_entrenamiento2[i]\n",
        "    entradas = np.array( [-1,patron_i[0],patron_i[1]] )\n",
        "    yd = patron_i[2]\n",
        "    v = np.dot(entradas,pesos)\n",
        "    y = np.sign(v)\n",
        "    error = yd - y\n",
        "    if (error != 0):\n",
        "      contador_error+=1\n",
        "      aux = ((eta/2) *error) *entradas\n",
        "      pesos = pesos + aux\n",
        "      pesos_v.append(pesos)\n",
        "  if (contador_error / len(datos_entrenamiento2) < 0.001):\n",
        "    break\n",
        "  epoca+=1"
      ],
      "metadata": {
        "id": "L5naL-6mAajL"
      },
      "execution_count": null,
      "outputs": []
    },
    {
      "cell_type": "code",
      "source": [
        "import matplotlib.pyplot as plt\n",
        "# imprimo or\n",
        "print('cantidad de plots: ',len(pesos_v))\n",
        "for j in np.arange(0,len(pesos_v)):\n",
        "  for i in np.arange(0,len(entradas1)):\n",
        "    aux = entradas1[i]\n",
        "    plt.plot(aux[0],aux[1],'ro')\n",
        "  for i in np.arange(0,len(entradas2)):\n",
        "    aux = entradas2[i]\n",
        "    plt.plot(aux[0],aux[1],'ko')\n",
        "  pesos_aux = pesos_v[j]\n",
        "  x2 = (pesos_aux[0] - pesos_aux[1]*x_aux)/pesos_aux[2]\n",
        "  plt.plot(x_aux,x2,'b')\n",
        "  plt.xlim([-1.5,1.5])\n",
        "  plt.ylim([-1.5,1.5])\n",
        "  plt.show()"
      ],
      "metadata": {
        "id": "dgNLT1aZzRVT"
      },
      "execution_count": null,
      "outputs": []
    },
    {
      "cell_type": "code",
      "source": [
        "# datos de xor\n",
        "entradas1_xor,entradas2_xor = gen_entradas(datos_entrenamiento_xor)\n",
        "pesos_v_xor = []\n",
        "epoca = 0\n",
        "while (epoca < 1000):\n",
        "  contador_error = 0\n",
        "  for i in np.arange(0,len(datos_entrenamiento_xor)):\n",
        "    patron_i = datos_entrenamiento_xor[i]\n",
        "    entradas_xor = np.array( [-1,patron_i[0],patron_i[1]] )\n",
        "    yd = patron_i[2]\n",
        "    v = np.dot(entradas_xor,pesos_xor)\n",
        "    y = np.sign(v)\n",
        "    error = yd - y\n",
        "    if (error != 0):\n",
        "      contador_error+=1\n",
        "      aux = ((eta/2) *error) *entradas_xor\n",
        "      pesos_xor = pesos_xor + aux\n",
        "      pesos_v_xor.append(pesos_xor)\n",
        "  if (contador_error / len(datos_entrenamiento_xor) < 0.001):\n",
        "    break\n",
        "  epoca+=1"
      ],
      "metadata": {
        "id": "zFeBYNp3zU5l"
      },
      "execution_count": null,
      "outputs": []
    },
    {
      "cell_type": "code",
      "source": [
        "# imprimo xor\n",
        "print('cantidad de plots: ',len(pesos_v_xor))\n",
        "for j in np.arange(0,len(pesos_v_xor)):\n",
        "  for i in np.arange(0,len(entradas1_xor)):\n",
        "    aux = entradas1_xor[i]\n",
        "    plt.plot(aux[0],aux[1],'ro')\n",
        "  for i in np.arange(0,len(entradas2_xor)):\n",
        "    aux = entradas2_xor[i]\n",
        "    plt.plot(aux[0],aux[1],'ko')\n",
        "  pesos_aux = pesos_v_xor[j]\n",
        "  x2 = (pesos_aux[0] - pesos_aux[1]*x_aux)/pesos_aux[2]\n",
        "  plt.plot(x_aux,x2,'b')\n",
        "  plt.xlim([-1.5,1.5])\n",
        "  plt.ylim([-1.5,1.5])\n",
        "  plt.show()"
      ],
      "metadata": {
        "id": "mo97rUpxyrWM"
      },
      "execution_count": null,
      "outputs": []
    },
    {
      "cell_type": "markdown",
      "source": [
        "## Ejercicio 3\n",
        "Repita el entrenamiento realizado para el caso del OR, pero entrenando con los archivos OR 50 trn.csv y OR 90 trn.csv, y sus correspondientes OR 50 tst.csv y OR 90 tst.csv para test. Estos datos fueron generados de la misma forma que los usados en el primer ejercicio, pero utilizando desviaciones aleatorias de 50 % y 90 %, respectivamente. Analice y discuta los resultados."
      ],
      "metadata": {
        "id": "e_3GAju3hsFf"
      }
    },
    {
      "cell_type": "code",
      "source": [
        "import numpy as np\n",
        "# cargo los datos del or 50\n",
        "datos_entrenamiento3_50 = np.genfromtxt(\"OR_50_trn.csv\", delimiter=\",\" , skip_header=1)\n",
        "datos_entrenamiento3_50 = datos_entrenamiento3_50[0:99]\n",
        "# cargo los datos del or 90\n",
        "datos_entrenamiento3_90 = np.genfromtxt(\"OR_90_trn.csv\", delimiter=\",\" , skip_header=1)\n",
        "datos_entrenamiento3_90 = datos_entrenamiento3_90[0:99]"
      ],
      "metadata": {
        "id": "XChI_Kmq1Y5j"
      },
      "execution_count": null,
      "outputs": []
    },
    {
      "cell_type": "code",
      "source": [
        "pesos_50 = np.random.rand(3)-0.5\n",
        "print('pesos or 50: ',pesos_50)\n",
        "pesos_90 = np.random.rand(3)-0.5\n",
        "print('pesos or 50: ',pesos_90)"
      ],
      "metadata": {
        "colab": {
          "base_uri": "https://localhost:8080/"
        },
        "id": "k6du4oji2aG3",
        "outputId": "74fab0f3-c89e-4c29-ed3d-6990c1650515"
      },
      "execution_count": null,
      "outputs": [
        {
          "output_type": "stream",
          "name": "stdout",
          "text": [
            "pesos or 50:  [ 0.29100994  0.07779812 -0.18259016]\n",
            "pesos or 50:  [-0.44306382 -0.19849402 -0.41048546]\n"
          ]
        }
      ]
    },
    {
      "cell_type": "code",
      "source": [
        "# entreno el or 50\n",
        "epoca = 0\n",
        "eta = 0.05\n",
        "errores_50 = []\n",
        "while (epoca < 1000):\n",
        "  contador_error = 0\n",
        "  for i in np.arange(0,len(datos_entrenamiento3_50)):\n",
        "    patron_i = datos_entrenamiento3_50[i]\n",
        "    entradas = np.array( [-1,patron_i[0],patron_i[1]])\n",
        "    yd = patron_i[2]\n",
        "    v = np.dot(entradas,pesos_50)\n",
        "    y = np.sign(v)\n",
        "    error = yd - y\n",
        "    if (error != 0):\n",
        "      contador_error+=1\n",
        "      aux= ((eta/2) *error) *entradas\n",
        "      pesos_50 = pesos_50 + aux\n",
        "  errores_50.append(contador_error)\n",
        "  if (contador_error/len(datos_entrenamiento3_50) < 0.001):\n",
        "    break\n",
        "  epoca+=1"
      ],
      "metadata": {
        "id": "Pgeonfp42lhU"
      },
      "execution_count": null,
      "outputs": []
    },
    {
      "cell_type": "code",
      "source": [
        "# entreno el or 90\n",
        "epoca = 0\n",
        "errores_90 = []\n",
        "while (epoca < 1000):\n",
        "  contador_error = 0\n",
        "  for i in np.arange(0,len(datos_entrenamiento3_90)):\n",
        "    patron_i = datos_entrenamiento3_90[i]\n",
        "    entradas = np.array( [-1,patron_i[0],patron_i[1]])\n",
        "    yd = patron_i[2]\n",
        "    v = np.dot(entradas,pesos_50)\n",
        "    y = np.sign(v)\n",
        "    error = yd - y\n",
        "    if (error != 0):\n",
        "      contador_error+=1\n",
        "      aux= ((eta/2) *error) *entradas\n",
        "      pesos_50 = pesos_50 + aux\n",
        "  errores_90.append(contador_error)\n",
        "  if (contador_error/len(datos_entrenamiento3_90) < 0.001):\n",
        "    break\n",
        "  epoca+=1"
      ],
      "metadata": {
        "id": "-8wv-YUm2um4"
      },
      "execution_count": null,
      "outputs": []
    },
    {
      "cell_type": "code",
      "source": [
        "# prueba de la red or 50\n",
        "datos_prueba_or50 = np.genfromtxt(\"OR_50_tst.csv\", delimiter=\",\" , skip_header=1)\n",
        "contador_error = 0\n",
        "for i in np.arange(0,len(datos_prueba_or50)):\n",
        " patron_i = datos_prueba_or50[i]\n",
        " entradas = np.array( [-1,patron_i[0],patron_i[1]])\n",
        " yd = patron_i[2]\n",
        " v = np.dot(entradas,pesos_50)\n",
        " y = np.sign(v)\n",
        " error = yd - y\n",
        " if (error != 0):\n",
        "  contador_error+=1\n",
        "print('porcentaje errores or 50: ', contador_error/len(datos_prueba_or50))"
      ],
      "metadata": {
        "colab": {
          "base_uri": "https://localhost:8080/"
        },
        "id": "l2mM90uJ3UDn",
        "outputId": "04daba93-9f94-43b2-b6d7-f075f220ad89"
      },
      "execution_count": null,
      "outputs": [
        {
          "output_type": "stream",
          "name": "stdout",
          "text": [
            "porcentaje errores or 50:  0.0\n"
          ]
        }
      ]
    },
    {
      "cell_type": "code",
      "source": [
        "# prueba de la red or 90\n",
        "datos_prueba_or90 = np.genfromtxt(\"OR_90_tst.csv\", delimiter=\",\" , skip_header=1)\n",
        "contador_error = 0\n",
        "for i in np.arange(0,len(datos_prueba_or90)):\n",
        " patron_i = datos_prueba_or90[i]\n",
        " entradas = np.array( [-1,patron_i[0],patron_i[1]])\n",
        " yd = patron_i[2]\n",
        " v = np.dot(entradas,pesos_90)\n",
        " y = np.sign(v)\n",
        " error = yd - y\n",
        " if (error != 0):\n",
        "  contador_error+=1\n",
        "print('porcentaje errores or 90: ', contador_error/len(datos_prueba_or90))"
      ],
      "metadata": {
        "colab": {
          "base_uri": "https://localhost:8080/"
        },
        "id": "uN_ABLSW3w5q",
        "outputId": "fcf9d5b3-384e-400b-948a-6ca259e6fff5"
      },
      "execution_count": null,
      "outputs": [
        {
          "output_type": "stream",
          "name": "stdout",
          "text": [
            "porcentaje errores or 90:  0.47738693467336685\n"
          ]
        }
      ]
    }
  ]
}