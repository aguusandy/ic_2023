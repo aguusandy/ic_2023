{
  "nbformat": 4,
  "nbformat_minor": 0,
  "metadata": {
    "colab": {
      "provenance": [],
      "include_colab_link": true
    },
    "kernelspec": {
      "name": "python3",
      "display_name": "Python 3"
    },
    "language_info": {
      "name": "python"
    }
  },
  "cells": [
    {
      "cell_type": "markdown",
      "metadata": {
        "id": "view-in-github",
        "colab_type": "text"
      },
      "source": [
        "<a href=\"https://colab.research.google.com/github/aguusandy/ic_2023/blob/master/Inteligencia_guia6.ipynb\" target=\"_parent\"><img src=\"https://colab.research.google.com/assets/colab-badge.svg\" alt=\"Open In Colab\"/></a>"
      ]
    },
    {
      "cell_type": "markdown",
      "source": [
        "## Guia 6 Práctica Inteligencia Computacional 2023"
      ],
      "metadata": {
        "id": "rGGqnv0mv-DB"
      }
    },
    {
      "cell_type": "markdown",
      "source": [
        "#Ejercicio 1:\n",
        "Implemente las estructuras de datos y algoritmos basicos para la solucion de un problema mediante algoritmos geneticos. Pruebe estas rutinas y compare los resultados con un metodo de gradiente descendiente para buscar el mınimo global de las siguientes funciones:\n",
        "\n",
        "i) f(x) = −x*sin(sqrt(|x|)) con x ∈ [−512 . . . 512]\n",
        "\n",
        "ii) f(x, y) = (x^2 + y^2)^(0.25)[sin(50*(x^2 + y^2)^(0.1) + 1)], con x, y ∈ [−100 . . . 100]\n",
        "\n"
      ],
      "metadata": {
        "id": "qJqAVsMgfse8"
      }
    },
    {
      "cell_type": "code",
      "source": [
        "import numpy as np\n",
        "import matplotlib.pyplot as plt"
      ],
      "metadata": {
        "id": "3xrl0QWzQ1GN"
      },
      "execution_count": 1,
      "outputs": []
    },
    {
      "cell_type": "code",
      "source": [
        "def f1(x):\n",
        "  return (-1)*x*np.sin(np.sqrt(np.abs(x)))"
      ],
      "metadata": {
        "id": "Np6V0mY6QtyA"
      },
      "execution_count": null,
      "outputs": []
    },
    {
      "cell_type": "code",
      "source": [
        "def f2(v):\n",
        "  x=v[0]; y=v[1]\n",
        "  return ((x**2 + y**2)**(0.25))*( np.sin(50*((x**2 + y**2)**(0.1)))**2 + 1)"
      ],
      "metadata": {
        "id": "vUJ4QueDRGep"
      },
      "execution_count": null,
      "outputs": []
    },
    {
      "cell_type": "code",
      "source": [
        "def decode(individuo):\n",
        "  num = 0;  individuo_aux = individuo[::-1];  tamaño_individuo = len(individuo)\n",
        "  for i in np.arange(0,tamaño_individuo):\n",
        "    num = num + individuo_aux[i]*(np.power(2,(i),dtype='float32'))\n",
        "    # print('i ',i,' individuo[i] ',individuo_aux[i])\n",
        "    # print('suma ',num)\n",
        "  return (num/(2**tamaño_individuo-1))*1024 -512"
      ],
      "metadata": {
        "id": "Jd2AemQQU764"
      },
      "execution_count": null,
      "outputs": []
    },
    {
      "cell_type": "code",
      "source": [
        "def gradient_descent(learning_rate, num_iterations, initial_x):\n",
        "    x = initial_x\n",
        "    for i in range(num_iterations):\n",
        "\n",
        "        x -= learning_rate * (-1)*np.sin(np.sqrt(np.abs(x))) + (-1)*(x)**2 * np.cos(np.sqrt(np.abs(x))) /(2 *np.abs(x)*np.sqrt(np.abs(x)))\n",
        "    return x\n",
        "print(gradient_descent(0.5,100,170))"
      ],
      "metadata": {
        "colab": {
          "base_uri": "https://localhost:8080/"
        },
        "id": "a8X510B9G2fq",
        "outputId": "4f5d78a2-00b9-4ce5-de32-78e5d326bab7"
      },
      "execution_count": null,
      "outputs": [
        {
          "output_type": "stream",
          "name": "stdout",
          "text": [
            "201.85125830030114\n"
          ]
        }
      ]
    },
    {
      "cell_type": "code",
      "source": [
        "def seleccion_competencia(k_seleccionados,tamaño_poblacion,fitness):\n",
        "  # tomamos al azar k individuos no repetidos y devolvemos el índice del individuo que tenga mejor fitness\n",
        "  seleccionados = np.full(k_seleccionados,-1)\n",
        "  for i in np.arange(0,k_seleccionados):\n",
        "    seleccionado = np.random.randint(low=0,high=tamaño_poblacion)\n",
        "    while (np.isin(seleccionado, seleccionados)): # verificamos que el seleccionado no sea repetido\n",
        "      seleccionado = np.random.randint(low=0,high=tamaño_poblacion)\n",
        "    seleccionados[i] = seleccionado\n",
        "\n",
        "  #   print('iteracion i = ',i,' seleccionados',seleccionados)\n",
        "  # print('fitness seleccionados: ',fitness[seleccionados])\n",
        "  # print('minimo fitness: ', np.argmin(fitness[seleccionados]))\n",
        "  # print('minimo ',seleccionados[np.argmin(fitness[seleccionados])])\n",
        "  return seleccionados[np.argmin(fitness[seleccionados])]"
      ],
      "metadata": {
        "id": "0R9u3ZYqwLPw"
      },
      "execution_count": 33,
      "outputs": []
    },
    {
      "cell_type": "code",
      "source": [
        "def generar_individuo(tamaño_individuo):\n",
        "  # genera un vector cuyos valores son 0 y 1 al azar\n",
        "  individuo = np.full(tamaño_individuo,None)\n",
        "  for i in np.arange(0,tamaño_individuo):\n",
        "    individuo[i] = np.random.randint(low=0, high=2)\n",
        "  return individuo"
      ],
      "metadata": {
        "id": "8bqq4lYPZN7x"
      },
      "execution_count": null,
      "outputs": []
    },
    {
      "cell_type": "code",
      "source": [
        "def mutacion_individuo(individuo):\n",
        "  # tomamos una posición al azar y cambiamos está por 1 o 0 respectivamente\n",
        "  posicion_mutar = np.random.randint(low=0, high=len(individuo))\n",
        "  if individuo[posicion_mutar] == 0:\n",
        "    individuo[posicion_mutar] = 1\n",
        "  else:\n",
        "    individuo[posicion_mutar] = 0\n",
        "  return individuo"
      ],
      "metadata": {
        "id": "P2wyOII6lkIt"
      },
      "execution_count": 34,
      "outputs": []
    },
    {
      "cell_type": "code",
      "source": [
        "def cruza_individuos(individuo1,individuo2):\n",
        "  # tomamos 2 individuos y generamos un numero al azar dónde se cambiarán dichos valores\n",
        "  # de los individuos por los del otro\n",
        "  ind_mutar = np.random.randint(low=0, high=len(individuo1))\n",
        "  aux = individuo1[ind_mutar:]\n",
        "  individuo1[ind_mutar:] = individuo2[ind_mutar:]\n",
        "  individuo2[ind_mutar:] = aux\n",
        "  return individuo1,individuo2"
      ],
      "metadata": {
        "id": "2tRbfIB4s48W"
      },
      "execution_count": 35,
      "outputs": []
    },
    {
      "cell_type": "code",
      "execution_count": null,
      "metadata": {
        "id": "Zu4Apc8yfIAt",
        "colab": {
          "base_uri": "https://localhost:8080/"
        },
        "outputId": "dc1b70f2-029a-4d1f-da68-699e93ed1dcd"
      },
      "outputs": [
        {
          "output_type": "stream",
          "name": "stdout",
          "text": [
            "menor -201.38913953698702\n",
            "mejor -199.91354288558327\n",
            "menor -201.74320073754365\n",
            "mejor -201.38913953698702\n",
            "menor -211.65449591731615\n",
            "mejor -201.74320073754365\n",
            "menor -297.0167474330747\n",
            "mejor -211.65449591731615\n",
            "menor -322.9798792831644\n",
            "mejor -297.0167474330747\n",
            "menor -369.5450038843278\n",
            "mejor -322.9798792831644\n",
            "menor -374.243567923486\n",
            "mejor -369.5450038843278\n",
            "menor -382.9788569028218\n",
            "mejor -374.243567923486\n",
            "menor -408.68962055976823\n",
            "mejor -382.9788569028218\n",
            "menor -415.759306309087\n",
            "mejor -408.68962055976823\n"
          ]
        }
      ],
      "source": [
        "# ALGORITMO GENETICO:\n",
        "\n",
        "# i) f(x) = −x*sin(sqrt(|x|)) con x ∈ [−512 . . . 512]\n",
        "\n",
        "# iniciar la poblacion con su fitness con 10 bits represento el x, ya que x ∈ [−512 . . . 512]\n",
        "tamaño_individuo = 10\n",
        "tamaño_poblacion = 10\n",
        "iteraciones_max = 2000\n",
        "k_progenitores = 10     # cantidad de progenitores a elegir\n",
        "paciencia_max = 50\n",
        "\n",
        "poblacion = np.full(tamaño_poblacion,None)\n",
        "fitness = np.full(tamaño_poblacion,None)\n",
        "for i in np.arange(0,tamaño_poblacion):\n",
        "  poblacion[i] = generar_individuo(tamaño_individuo) # generamos la poblacion de individuos\n",
        "  fitness[i] = f1(decode(poblacion[i]))   # obtenemos el mejor fitness evaluando toda la poblacion -> f1 funcion de fitness\n",
        "\n",
        "individuo_mejorFitness = poblacion[np.argmin(fitness)]\n",
        "individuo_mejorFitness_aux = individuo_mejorFitness.copy()\n",
        "progenitores = np.full(k_progenitores,None)\n",
        "iteracion = 0\n",
        "paciencia = 0\n",
        "# mientras\n",
        "while iteracion < iteraciones_max and paciencia <= paciencia_max:\n",
        "  # seleccionamos los progenitores -> seleccion por competencia k = 5, numero de progenitores = 10\n",
        "  for i in np.arange(0,k_progenitores):\n",
        "    progenitores[i] = seleccion_competencia(5,tamaño_poblacion,fitness)\n",
        "\n",
        "  # cruza/mutacion de la proxima generacion\n",
        "  for i in np.arange(0,k_progenitores,2):\n",
        "    if np.random.rand() <= 0.9: # probabilidad_cruza <= 0.9\n",
        "      individuo1,individuo2 = cruza_individuos(poblacion[progenitores[i]],poblacion[progenitores[i+1]])\n",
        "      poblacion[progenitores[i]] = individuo1\n",
        "      poblacion[progenitores[i+1]] = individuo2\n",
        "    if np.random.rand() <= 0.1: # probabilidad_mutacion <= 0.1\n",
        "      individuo1 = mutacion_individuo(poblacion[progenitores[i]])\n",
        "      individuo2 = mutacion_individuo(poblacion[progenitores[i+1]])\n",
        "      poblacion[progenitores[i]] = individuo1\n",
        "      poblacion[progenitores[i+1]] = individuo2\n",
        "  # obtenemos el mejor fitness evaluando la nueva poblacion\n",
        "  poblacion[0]=individuo_mejorFitness.copy()\n",
        "  for i in np.arange(0,tamaño_poblacion):\n",
        "    fitness[i] = f1(decode(poblacion[i]))\n",
        "  individuo_mejorFitness_aux = poblacion[np.argmin(fitness)]\n",
        "  if f1(decode(individuo_mejorFitness_aux)) < f1(decode(individuo_mejorFitness)):\n",
        "    print(\"menor\",f1(decode(individuo_mejorFitness_aux)))\n",
        "    print(\"mejor\",f1(decode(individuo_mejorFitness)))\n",
        "    individuo_mejorFitness = individuo_mejorFitness_aux.copy()\n",
        "    paciencia = 0\n",
        "  else:\n",
        "    paciencia+=1\n",
        "  #print(decode(individuo_mejorFitness))\n",
        "  #print(f1(decode(individuo_mejorFitness)))\n",
        "  iteracion+=1\n",
        "# endwhile"
      ]
    },
    {
      "cell_type": "code",
      "source": [
        "print('Cantidad de iteraciones: ',iteracion)\n",
        "print('Individuo con mejor fitness: ',decode(individuo_mejorFitness))\n",
        "print('Mejor fitness encontrado: ',f1(decode(individuo_mejorFitness)))\n",
        "x = np.linspace(-512, 512,num=2048)\n",
        "y = f1(x)\n",
        "plt.plot(x,y,'b-')\n",
        "x_o = np.random.rand() * 200\n",
        "x = gradient_descent(0.5,100,x_o)\n",
        "print(x)\n",
        "plt.plot(x,f1(x),'bo')\n",
        "plt.plot(decode(individuo_mejorFitness),f1(decode(individuo_mejorFitness)),'*r')\n",
        "plt.title('Funcion −x*sin(sqrt(|x|))')\n",
        "plt.xlabel('valor de x: individuo')\n",
        "plt.ylabel('valor de y: fitness')\n",
        "plt.grid()\n",
        "plt.show()"
      ],
      "metadata": {
        "colab": {
          "base_uri": "https://localhost:8080/",
          "height": 541
        },
        "id": "_hmjb-MalBDZ",
        "outputId": "72daa87f-7a70-4264-edac-32c7a0cd6de2"
      },
      "execution_count": null,
      "outputs": [
        {
          "output_type": "stream",
          "name": "stdout",
          "text": [
            "Cantidad de iteraciones:  182\n",
            "Individuo con mejor fitness:  415.90615835777123\n",
            "Mejor fitness encontrado:  -415.759306309087\n",
            "201.8512583002921\n"
          ]
        },
        {
          "output_type": "display_data",
          "data": {
            "text/plain": [
              "<Figure size 640x480 with 1 Axes>"
            ],
            "image/png": "[encoded data removed]"
          },
          "metadata": {}
        }
      ]
    },
    {
      "cell_type": "code",
      "source": [
        "def decode2(individuo):\n",
        "  num = np.array([0,0]);  individuo_aux = individuo[::-1];  tamaño_individuo = len(individuo); mitad = int(tamaño_individuo/2)\n",
        "  for i in np.arange(0,mitad):\n",
        "    num[0] = num[0] + individuo_aux[i]*(np.power(2,(i),dtype='float32'))\n",
        "  for i in np.arange(mitad,tamaño_individuo):\n",
        "    num[1] = num[1] + individuo_aux[i]*(np.power(2,(i-mitad),dtype='float32'))\n",
        "  return (num/(2**mitad-1))*200-np.array([100,100])\n",
        "  # return num[0]-100,num[1]-100"
      ],
      "metadata": {
        "id": "nn9y105ETCKu"
      },
      "execution_count": null,
      "outputs": []
    },
    {
      "cell_type": "code",
      "source": [
        "print(decode2(np.array([1,1,1,1,1,0,0,0,0,0,1,1,1,1,1,1])))"
      ],
      "metadata": {
        "colab": {
          "base_uri": "https://localhost:8080/"
        },
        "id": "6AW3Dx0Bc647",
        "outputId": "1b72874d-4e3b-465b-dd76-b21c5ac6eff2"
      },
      "execution_count": null,
      "outputs": [
        {
          "output_type": "stream",
          "name": "stdout",
          "text": [
            "[-50.58823529  94.50980392]\n"
          ]
        }
      ]
    },
    {
      "cell_type": "code",
      "source": [
        "def gradient_descent_2d(learning_rate, num_iterations, initial_x, initial_y):\n",
        "    x = initial_x\n",
        "    y = initial_y\n",
        "    for i in range(num_iterations):\n",
        "        gradient_x = 0.5*x * (np.sin(50*(x**2+y**2)**0.1)**2) / (x**2+y**2)**0.75  + 20*x*np.cos(50*(x**2+y**2)**0.1) * np.sin(50*(x**2+y**2)**0.1)/(x**2+y**2)**0.65\n",
        "        gradient_y = 0.5*y * (np.sin(50*(x**2+y**2)**0.1)**2) / (x**2+y**2)**0.75  + 20*y*np.cos(50*(x**2+y**2)**0.1) * np.sin(50*(x**2+y**2)**0.1)/(x**2+y**2)**0.65\n",
        "        x -= learning_rate * gradient_x\n",
        "        y -= learning_rate * gradient_y\n",
        "    return x, y"
      ],
      "metadata": {
        "id": "zlYedrdnZVxO"
      },
      "execution_count": null,
      "outputs": []
    },
    {
      "cell_type": "code",
      "source": [
        " # ii) f(x, y) = (x^2 + y^2)^(0.25)[sin(50*(x^2 + y^2)^(0.1) + 1)], con x, y ∈ [−100 . . . 100]\n",
        "\n",
        "# con 8 bits represento el x, ya que x ∈ [−100 . . . 100]\n",
        "# y con 16 represento los valores para x y para y,\n",
        "tamaño_individuo_b = 16\n",
        "tamaño_poblacion_b = 20\n",
        "iteraciones_max_b = 2000\n",
        "k_progenitores_b = 20\n",
        "paciencia_max_b = 1000\n",
        "\n",
        "# inicializamos la problacion\n",
        "poblacion_b = np.full(tamaño_poblacion_b,None)\n",
        "fitness_b = np.full(tamaño_poblacion_b,None)\n",
        "for i in np.arange(0,tamaño_poblacion_b):\n",
        "  poblacion_b[i] = generar_individuo(tamaño_individuo_b)\n",
        "  fitness_b[i] = f2(decode2(poblacion_b[i]))   # f2 funcion de fitness\n",
        "# obtengo el individuo con mejor fitness\n",
        "individuo_mejorFitness_b = poblacion_b[np.argmin(fitness_b)].copy()\n",
        "\n",
        "progenitores_b = np.full(k_progenitores_b,None)\n",
        "iteracion_b = 0\n",
        "fitnesRequerido = 0.01\n",
        "paciencia=0\n",
        "# bucle\n",
        "while iteracion_b < iteraciones_max_b and paciencia < paciencia_max_b:\n",
        "  # tomo a los progenitores\n",
        "  for i in np.arange(0,k_progenitores_b):\n",
        "    progenitores_b[i] = seleccion_competencia(5,tamaño_poblacion_b,fitness_b)\n",
        "  # cruza/mutacion de los progenitores\n",
        "  for i in np.arange(0,k_progenitores_b,2):\n",
        "   if np.random.rand() <= 0.9: # probabilidad_cruza <= 0.9\n",
        "      individuo1,individuo2 = cruza_individuos(poblacion_b[progenitores_b[i]],poblacion_b[progenitores_b[i+1]])\n",
        "      poblacion_b[progenitores_b[i]] = individuo1\n",
        "      poblacion_b[progenitores_b[i+1]] = individuo2\n",
        "   if np.random.rand() <= 0.1: # probabilidad_mutacion <= 0.1\n",
        "      individuo1 = mutacion_individuo(poblacion_b[progenitores_b[i]])\n",
        "      individuo2 = mutacion_individuo(poblacion_b[progenitores_b[i+1]])\n",
        "      poblacion_b[progenitores_b[i]] = individuo1\n",
        "      poblacion_b[progenitores_b[i+1]] = individuo2\n",
        "  # obtenemos el mejor fitness evaluando la nueva poblacion\n",
        "  poblacion_b[0]=individuo_mejorFitness_b.copy()\n",
        "  for i in np.arange(0,tamaño_poblacion_b):\n",
        "    fitness_b[i] = f2(decode2(poblacion_b[i]))\n",
        "  individuo_mejorFitness_aux_b = poblacion_b[np.argmin(fitness_b)].copy()\n",
        "  if f2(decode2(individuo_mejorFitness_aux_b)) < f2(decode2(individuo_mejorFitness_b)):\n",
        "    print(\"menor\",f2(decode2(individuo_mejorFitness_aux_b)))\n",
        "    print(\"mejor\",f2(decode2(individuo_mejorFitness_b)))\n",
        "    individuo_mejorFitness_b = individuo_mejorFitness_aux_b.copy()\n",
        "    paciencia = 0\n",
        "  else:\n",
        "    paciencia+=1\n",
        "  iteracion_b+=1\n",
        "# endwhile\n"
      ],
      "metadata": {
        "id": "FZfxYhFgSodu",
        "colab": {
          "base_uri": "https://localhost:8080/"
        },
        "outputId": "71f22e9a-23b8-45f5-ae59-0a36d5e8a6d4"
      },
      "execution_count": null,
      "outputs": [
        {
          "output_type": "stream",
          "name": "stdout",
          "text": [
            "menor 6.250187932349943\n",
            "mejor 6.7764460450090445\n",
            "menor 4.960212669105308\n",
            "mejor 6.250187932349943\n",
            "menor 4.536810063457974\n",
            "mejor 4.960212669105308\n",
            "menor 4.479224608144083\n",
            "mejor 4.536810063457974\n",
            "menor 3.4479755733652575\n",
            "mejor 4.479224608144083\n",
            "menor 3.025205052135652\n",
            "mejor 3.4479755733652575\n",
            "menor 2.133764080373371\n",
            "mejor 3.025205052135652\n",
            "menor 2.0870234597759327\n",
            "mejor 2.133764080373371\n",
            "menor 0.8895783139209392\n",
            "mejor 2.0870234597759327\n"
          ]
        }
      ]
    },
    {
      "cell_type": "code",
      "source": [
        "print('Cantidad de iteraciones: ',iteracion_b)\n",
        "ind = decode2(individuo_mejorFitness_b)\n",
        "print('Individuo con mejor fitness: ',ind)\n",
        "print('Mejor fitness encontrado: ',f2(ind))\n",
        "x = y = np.linspace(-100, 100,num=200)\n",
        "x, y = np.meshgrid(x, y)\n",
        "z = f2([x,y])\n",
        "# Set up plot\n",
        "fig, ax = plt.subplots(subplot_kw=dict(projection='3d'))\n",
        "surf = ax.plot_surface(x, y, z)\n",
        "x,y = gradient_descent_2d(0.5,100,np.random.rand()*20,np.random.rand()*20)\n",
        "print(x,y)\n",
        "ax.scatter(ind[0], ind[1], f2(ind), color='red', s=50)\n",
        "ax.scatter(x, y, f2([x,y]), color='green', s=50)\n",
        "ax.set_title('Funcion (x^2 + y^2)^(0.25)[sin^2(50*(x^2 + y^2)^(0.1) + 1)]')\n",
        "ax.set_xlabel('valor de x')\n",
        "ax.set_ylabel('valor de y')\n",
        "ax.set_zlabel('valor de fitness')\n",
        "ax.view_init(elev=10, azim=60)\n",
        "plt.show()"
      ],
      "metadata": {
        "colab": {
          "base_uri": "https://localhost:8080/",
          "height": 245
        },
        "id": "KxVeJbqcio_D",
        "outputId": "5ec8c7cd-c9a8-493f-b7a7-8b7976e0b1a7"
      },
      "execution_count": null,
      "outputs": [
        {
          "output_type": "error",
          "ename": "NameError",
          "evalue": "ignored",
          "traceback": [
            "\u001b[0;31m---------------------------------------------------------------------------\u001b[0m",
            "\u001b[0;31mNameError\u001b[0m                                 Traceback (most recent call last)",
            "\u001b[0;32m<ipython-input-1-9855b5648ece>\u001b[0m in \u001b[0;36m<cell line: 1>\u001b[0;34m()\u001b[0m\n\u001b[0;32m----> 1\u001b[0;31m \u001b[0mprint\u001b[0m\u001b[0;34m(\u001b[0m\u001b[0;34m'Cantidad de iteraciones: '\u001b[0m\u001b[0;34m,\u001b[0m\u001b[0miteracion_b\u001b[0m\u001b[0;34m)\u001b[0m\u001b[0;34m\u001b[0m\u001b[0;34m\u001b[0m\u001b[0m\n\u001b[0m\u001b[1;32m      2\u001b[0m \u001b[0mind\u001b[0m \u001b[0;34m=\u001b[0m \u001b[0mdecode2\u001b[0m\u001b[0;34m(\u001b[0m\u001b[0mindividuo_mejorFitness_b\u001b[0m\u001b[0;34m)\u001b[0m\u001b[0;34m\u001b[0m\u001b[0;34m\u001b[0m\u001b[0m\n\u001b[1;32m      3\u001b[0m \u001b[0mprint\u001b[0m\u001b[0;34m(\u001b[0m\u001b[0;34m'Individuo con mejor fitness: '\u001b[0m\u001b[0;34m,\u001b[0m\u001b[0mind\u001b[0m\u001b[0;34m)\u001b[0m\u001b[0;34m\u001b[0m\u001b[0;34m\u001b[0m\u001b[0m\n\u001b[1;32m      4\u001b[0m \u001b[0mprint\u001b[0m\u001b[0;34m(\u001b[0m\u001b[0;34m'Mejor fitness encontrado: '\u001b[0m\u001b[0;34m,\u001b[0m\u001b[0mf2\u001b[0m\u001b[0;34m(\u001b[0m\u001b[0mind\u001b[0m\u001b[0;34m)\u001b[0m\u001b[0;34m)\u001b[0m\u001b[0;34m\u001b[0m\u001b[0;34m\u001b[0m\u001b[0m\n\u001b[1;32m      5\u001b[0m \u001b[0mx\u001b[0m \u001b[0;34m=\u001b[0m \u001b[0my\u001b[0m \u001b[0;34m=\u001b[0m \u001b[0mnp\u001b[0m\u001b[0;34m.\u001b[0m\u001b[0mlinspace\u001b[0m\u001b[0;34m(\u001b[0m\u001b[0;34m-\u001b[0m\u001b[0;36m100\u001b[0m\u001b[0;34m,\u001b[0m \u001b[0;36m100\u001b[0m\u001b[0;34m,\u001b[0m\u001b[0mnum\u001b[0m\u001b[0;34m=\u001b[0m\u001b[0;36m200\u001b[0m\u001b[0;34m)\u001b[0m\u001b[0;34m\u001b[0m\u001b[0;34m\u001b[0m\u001b[0m\n",
            "\u001b[0;31mNameError\u001b[0m: name 'iteracion_b' is not defined"
          ]
        }
      ]
    },
    {
      "cell_type": "markdown",
      "source": [
        "\n",
        "#Ejercicio 2:\n",
        "Disene e implemente un algoritmo genetico que busque el mejor subconjunto de caracterısticas para la clasificacion de cancer leucemia linfocıtica aguda y leucemia mielogena aguda) a partir de datos genomicos. Se proveen 38 muestras en el conjunto de entrenamiento y 34 en el conjunto de prueba (leukemia train.csv y leukemia test.csv, respectivamente). Cada muestra se compone de un total de 7129 caracterısticas, que corresponden a valores de expresion genica"
      ],
      "metadata": {
        "id": "RCn0Ud1QQExN"
      }
    },
    {
      "cell_type": "code",
      "source": [
        "import numpy as np\n",
        "datos_train_leukemia = np.genfromtxt(\"leukemia_train.csv\", delimiter=\",\" , skip_header=1)\n",
        "datos_test_leukemia = np.genfromtxt(\"leukemia_test.csv\", delimiter=\",\" , skip_header=1)\n",
        "\n",
        "# datos entrenamiento\n",
        "x_train_data = datos_train_leukemia[:,:-1]\n",
        "y_train_data = datos_train_leukemia[:,-1:]\n",
        "# x_monitor_data = datos_train_leukemia[30:,:-1]\n",
        "# y_monitor_data = datos_train_leukemia[30:,-1:]\n",
        "tamaño_individuo2 = len(x_train_data[0])\n",
        "print('tamaño del individuo: ',tamaño_individuo2)\n",
        "\n",
        "# datos test\n",
        "x_test_data = datos_test_leukemia[:,:-1]\n",
        "y_test_data = datos_test_leukemia[:,-1:]"
      ],
      "metadata": {
        "colab": {
          "base_uri": "https://localhost:8080/"
        },
        "id": "k32N6FRK2yaJ",
        "outputId": "c424d7ec-e0e0-424c-c57c-0853475db6bc"
      },
      "execution_count": 30,
      "outputs": [
        {
          "output_type": "stream",
          "name": "stdout",
          "text": [
            "tamaño del individuo:  7129\n"
          ]
        }
      ]
    },
    {
      "cell_type": "code",
      "source": [
        "# clasificador que vamos a usar es svm\n",
        "from sklearn.metrics import accuracy_score\n",
        "from sklearn.svm import SVC\n"
      ],
      "metadata": {
        "id": "VAoR1RsqpHg4"
      },
      "execution_count": 21,
      "outputs": []
    },
    {
      "cell_type": "code",
      "source": [
        "def armar_vector_datos(individuo,cant_caracteristicas,datos):\n",
        "  v = np.full(len(datos),None)\n",
        "  rango = np.where(individuo == 1)[0]\n",
        "  for i in np.arange(0,len(datos)):\n",
        "    v[i] = datos[i][rango]\n",
        "  return v.tolist()"
      ],
      "metadata": {
        "id": "oJNONYVXx3m7"
      },
      "execution_count": 22,
      "outputs": []
    },
    {
      "cell_type": "code",
      "source": [
        "def generar_individuo2(size_individuo,porcentaje):\n",
        "  cant_unos = int(size_individuo*porcentaje)\n",
        "  individuo = np.zeros(size_individuo)\n",
        "  rango = np.random.randint(low=0,high=size_individuo,size=cant_unos)\n",
        "  individuo[rango] = 1\n",
        "  return individuo"
      ],
      "metadata": {
        "id": "s2_N6uB0YnZ5"
      },
      "execution_count": 7,
      "outputs": []
    },
    {
      "cell_type": "code",
      "source": [
        "# la funcion de decodificar hace:\n",
        "# - cuenta la cantidad de caracteristicas del individuo (cuantos 1 tiene)\n",
        "def decode3(individuo):\n",
        "  return np.count_nonzero(individuo == 1)"
      ],
      "metadata": {
        "id": "11DxYcpUs84s"
      },
      "execution_count": 23,
      "outputs": []
    },
    {
      "cell_type": "code",
      "source": [
        "def f3(a,b,carac_selec,total_carac,individuo,x_train,y_train,x_test,y_test):\n",
        "  # fitness = a*accuracy - b*(carac_seleccionadas / total_caracteristicas)\n",
        "  # - genera un vector con las caracteristicas en 1 del individuo y los datos de train\n",
        "  # - entrena el clasificador con dicho vector\n",
        "  # - evalua la tasa de aciertos con los datos de monitoreo\n",
        "  # - devuelve la [la cantidad de caracteristicas de dicho individuo, tasa de aciertos del clasificador]\n",
        "  datos_segun_carac = armar_vector_datos(individuo,carac_selec,x_train)\n",
        "  datos_segun_carac_test = armar_vector_datos(individuo,carac_selec,x_test)\n",
        "  clf = SVC(kernel='poly', tol=0.01)\n",
        "  clf.fit(datos_segun_carac,y_train)\n",
        "  accuracy = accuracy_score(y_test, clf.predict(datos_segun_carac_test))\n",
        "  return a*accuracy - b*(carac_selec / total_carac)"
      ],
      "metadata": {
        "id": "-7xmGp5zryqF"
      },
      "execution_count": 31,
      "outputs": []
    },
    {
      "cell_type": "code",
      "source": [
        "# iniciar la poblacion con su fitness\n",
        "tamaño_poblacion2 = 38      # 38 datos de prueba\n",
        "iteraciones_max2 = 2000\n",
        "k_progenitores2 = 10        # cantidad de progenitores a elegir\n",
        "a = 0.75\n",
        "b = 100\n",
        "total_caracteristicas = tamaño_individuo2\n",
        "paciencia_max_2 = 1000\n",
        "\n",
        "\n",
        "poblacion2 = np.full(tamaño_poblacion2,None)\n",
        "fitness2 = np.full(tamaño_poblacion2,None)\n",
        "for i in np.arange(0,tamaño_poblacion2):\n",
        "  poblacion2[i] = generar_individuo2(tamaño_individuo2,0.1 + (i+1)/100)\n",
        "  fitness2[i] = f3(a,b,decode3(poblacion2[i]),tamaño_individuo2,poblacion2[i],x_train_data,y_train_data,x_test_data,y_test_data)\n",
        "\n",
        "# mantengo el indice del vector para poder hacer varias referencias\n",
        "mejorFitness2 = np.argmax(fitness2)\n",
        "individuo_mejorFitness = poblacion2[mejorFitness2].copy()\n",
        "\n",
        "progenitores2 = np.full(k_progenitores2,None)\n",
        "fitnessRequerido2 = 0.8\n",
        "iteracion2 = 0\n",
        "paciencia = 0\n",
        "# mientras mejorFitness < fitnessRequerido\n",
        "while iteracion2 < iteraciones_max2 and fitness2[mejorFitness2] <= fitnessRequerido2 and paciencia <= paciencia_max_2:\n",
        "  progenitores2 = np.full(k_progenitores2,None)\n",
        "  for i in np.arange(0,k_progenitores2):\n",
        "    progenitores2[i] = seleccion_competencia(k_progenitores2,tamaño_poblacion2,fitness2)\n",
        "  for i in np.arange(0,k_progenitores2,2):\n",
        "    if np.random.rand() <= 0.9:\n",
        "      ind1,ind2 = cruza_individuos(poblacion2[progenitores2[i]],poblacion2[progenitores2[i+1]])\n",
        "      poblacion2[progenitores2[i]] = ind1\n",
        "      poblacion2[progenitores2[i+1]] = ind2\n",
        "    if np.random.rand() <= 0.3:\n",
        "      ind1 = mutacion_individuo(poblacion2[progenitores2[i]])\n",
        "      ind2 = mutacion_individuo(poblacion2[progenitores2[i+1]])\n",
        "      poblacion2[progenitores2[i]] = ind1\n",
        "      poblacion2[progenitores2[i+1]] = ind2\n",
        "  poblacion2[0]=individuo_mejorFitness.copy()\n",
        "  for i in np.arange(0,tamaño_poblacion2):\n",
        "    fitness2[i] = f3(a,b,decode3(poblacion2[i]),tamaño_individuo2,poblacion2[i],x_train_data,y_train_data,x_test_data,y_test_data)\n",
        "\n",
        "  mejorFitness2_aux = np.argmax(fitness2)\n",
        "  individuo_mejorFitness_aux = poblacion2[mejorFitness2].copy()\n",
        "\n",
        "  if mejorFitness2_aux < mejorFitness2:\n",
        "    individuo_mejorFitness = individuo_mejorFitness_aux.copy()\n",
        "    mejorFitness2 = mejorFitness2_aux\n",
        "    paciencia = 0\n",
        "  else:\n",
        "    paciencia+=1\n",
        "\n",
        "  iteracion2+=1\n",
        "# endwhile"
      ],
      "metadata": {
        "id": "hnL4YXH34hM0"
      },
      "execution_count": null,
      "outputs": []
    },
    {
      "cell_type": "code",
      "source": [
        "clf = SVC(kernel='poly', tol=0.01)\n",
        "clf.fit(x_train_data,y_train_data)\n",
        "accuracy_todos = accuracy_score(y_test_data, clf.predict(x_test_data))\n",
        "print('accuracy con todos los datos: ',accuracy_todos)"
      ],
      "metadata": {
        "colab": {
          "base_uri": "https://localhost:8080/"
        },
        "id": "k3gXOcU5lxMP",
        "outputId": "6480b129-11ca-406b-ed7c-c85b97e602f0"
      },
      "execution_count": 38,
      "outputs": [
        {
          "output_type": "stream",
          "name": "stdout",
          "text": [
            "accuracy con todos los datos:  0.7272727272727273\n"
          ]
        },
        {
          "output_type": "stream",
          "name": "stderr",
          "text": [
            "/usr/local/lib/python3.10/dist-packages/sklearn/utils/validation.py:1143: DataConversionWarning: A column-vector y was passed when a 1d array was expected. Please change the shape of y to (n_samples, ), for example using ravel().\n",
            "  y = column_or_1d(y, warn=True)\n"
          ]
        }
      ]
    },
    {
      "cell_type": "code",
      "source": [
        "print('cantidad de iteraciones: ',iteracion2)\n",
        "print('mejor fitness encontrado ',fitness2[mejorFitness2])\n",
        "print('individuo con mejor fitness encontrado ',poblacion2[mejorFitness2])\n",
        "print('cantidad de caracteristicas: ',decode3(poblacion2[mejorFitness2]))\n",
        "datos_train = armar_vector_datos(poblacion2[mejorFitness2],decode3(poblacion2[mejorFitness2]),x_train_data)\n",
        "datos_test = armar_vector_datos(poblacion2[mejorFitness2],decode3(poblacion2[mejorFitness2]),x_test_data)\n",
        "clf_mejor = SVC(kernel='poly', tol=0.01)\n",
        "clf_mejor.fit(datos_train,y_train_data)\n",
        "accuracy = accuracy_score(y_test_data, clf_mejor.predict(datos_test))\n",
        "print('accuracy del mejor individuo: ',accuracy)"
      ],
      "metadata": {
        "id": "75IfnNpP8mkC",
        "colab": {
          "base_uri": "https://localhost:8080/"
        },
        "outputId": "30ff1c25-6312-4dc4-9989-1e6eccfa5dd1"
      },
      "execution_count": 40,
      "outputs": [
        {
          "output_type": "stream",
          "name": "stdout",
          "text": [
            "cantidad de iteraciones:  1001\n",
            "mejor fitness encontrado  -9.927546257922186\n",
            "individuo con mejor fitness encontrado  [0. 0. 0. ... 0. 0. 0.]\n",
            "cantidad de caracteristicas:  745\n",
            "accuracy del mejor individuo:  0.696969696969697\n"
          ]
        },
        {
          "output_type": "stream",
          "name": "stderr",
          "text": [
            "/usr/local/lib/python3.10/dist-packages/sklearn/utils/validation.py:1143: DataConversionWarning: A column-vector y was passed when a 1d array was expected. Please change the shape of y to (n_samples, ), for example using ravel().\n",
            "  y = column_or_1d(y, warn=True)\n"
          ]
        }
      ]
    }
  ]
}