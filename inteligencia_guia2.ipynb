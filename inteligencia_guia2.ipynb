{
  "nbformat": 4,
  "nbformat_minor": 0,
  "metadata": {
    "colab": {
      "provenance": [],
      "include_colab_link": true
    },
    "kernelspec": {
      "name": "python3",
      "display_name": "Python 3"
    },
    "language_info": {
      "name": "python"
    }
  },
  "cells": [
    {
      "cell_type": "markdown",
      "metadata": {
        "id": "view-in-github",
        "colab_type": "text"
      },
      "source": [
        "<a href=\"https://colab.research.google.com/github/aguusandy/ic_2023/blob/master/inteligencia_guia2.ipynb\" target=\"_parent\"><img src=\"https://colab.research.google.com/assets/colab-badge.svg\" alt=\"Open In Colab\"/></a>"
      ]
    },
    {
      "cell_type": "markdown",
      "source": [
        "# Guia Practica 2 IC 2023"
      ],
      "metadata": {
        "id": "e7No56YQ62eF"
      }
    },
    {
      "cell_type": "markdown",
      "source": [
        "## Ejercicio 1\n",
        "Implemente el algoritmo de retropropagacion para un perceptron multicapa de forma que se pueda elegir libremente la cantidad de capas de la red y de neuronas en cada capa. Pruebelo entrenando una red de estructura apropiada para resolver el problema XOR, con sus particiones de entrenamiento y prueba correspondientes (datos de la Guıa de Trabajos Practicos 1)."
      ],
      "metadata": {
        "id": "b095GiNO7Lhj"
      }
    },
    {
      "cell_type": "code",
      "source": [
        "# cargamos los datos de entrenamiento\n",
        "import numpy as np\n",
        "datos_entrenamiento = np.genfromtxt(\"XOR_trn.csv\", delimiter=\",\" , skip_header=1)\n",
        "datos_entrenamiento = datos_entrenamiento[0:99]\n",
        "\n",
        "datos_ej1 = np.insert(datos_entrenamiento,0,-1,axis=1)\n",
        "print(datos_ej1[0:9])"
      ],
      "metadata": {
        "id": "FCVznn2g7ZVc",
        "colab": {
          "base_uri": "https://localhost:8080/"
        },
        "outputId": "0a2f73bf-001c-444a-fce4-73ba3985bd99"
      },
      "execution_count": null,
      "outputs": [
        {
          "output_type": "stream",
          "name": "stdout",
          "text": [
            "[[-1.       1.0325  -1.0188   1.     ]\n",
            " [-1.       1.0261   1.0343  -1.     ]\n",
            " [-1.       0.98587  0.97163 -1.     ]\n",
            " [-1.       1.006   -1.0311   1.     ]\n",
            " [-1.       1.0009  -1.0062   1.     ]\n",
            " [-1.       0.99489  1.0052  -1.     ]\n",
            " [-1.      -0.96894  1.018    1.     ]\n",
            " [-1.       0.99215 -1.0158   1.     ]\n",
            " [-1.      -1.01     1.0341   1.     ]]\n"
          ]
        }
      ]
    },
    {
      "cell_type": "code",
      "source": [
        "# definimos el tamaño de la red y la cantidad de neuronas en cada capa\n",
        "red_size = [2,1]\n"
      ],
      "metadata": {
        "id": "_BRIZqDX_IE6"
      },
      "execution_count": null,
      "outputs": []
    },
    {
      "cell_type": "code",
      "source": [
        "# defino la matriz de pesos\n",
        "pesos_ej1 = []\n",
        "pesos_ej1.append(np.random.rand(red_size[0],len(datos_entrenamiento[0]))-0.5)\n",
        "for i in np.arange(1,len(red_size)):\n",
        "  pesos_ej1.append(np.random.rand(red_size[i],red_size[i-1]+1)-0.5)\n",
        "print(pesos_ej1)"
      ],
      "metadata": {
        "colab": {
          "base_uri": "https://localhost:8080/"
        },
        "id": "WY3myRFv_PAx",
        "outputId": "4d15fd9f-40f6-4b1b-cdee-311be7305d14"
      },
      "execution_count": null,
      "outputs": [
        {
          "output_type": "stream",
          "name": "stdout",
          "text": [
            "[array([[ 0.08478709, -0.14753679,  0.40492297],\n",
            "       [ 0.24604563,  0.3887169 ,  0.19189366]]), array([[0.03911295, 0.49494471, 0.28389964]])]\n"
          ]
        }
      ]
    },
    {
      "cell_type": "code",
      "source": [
        "def sigmoid(x,a):\n",
        "  return (2 / (1 + np.exp(-x*a))) - 1"
      ],
      "metadata": {
        "id": "n5td1LAwndNL"
      },
      "execution_count": null,
      "outputs": []
    },
    {
      "cell_type": "code",
      "source": [
        "def neurona(entradas_v,pesos_v,a):\n",
        "  v = np.dot(entradas_v,pesos_v)\n",
        "  return sigmoid(v,a)"
      ],
      "metadata": {
        "id": "2dSPZXQOEWkz"
      },
      "execution_count": null,
      "outputs": []
    },
    {
      "cell_type": "code",
      "source": [
        "def sigmoid_v(x,a):\n",
        "  res = np.zeros(len(x))\n",
        "  for i in np.arange(0,len(x)):\n",
        "    res[i] = (2 / (1 + np.exp(-x[i]*a))) - 1\n",
        "  return res"
      ],
      "metadata": {
        "id": "BQLXNO48I-I9"
      },
      "execution_count": null,
      "outputs": []
    },
    {
      "cell_type": "code",
      "source": [
        "def propagacion_adelante(entradas,pesos,red_size,a):\n",
        "  y_v = [entradas]   # entradas = [-1,w1,w2] , y_v =[[-1,w1,w2]]\n",
        "  for i in np.arange(0,len(red_size)):  # recorro las capas de la red\n",
        "    pesos_capa = pesos[i]\n",
        "    #print('capa ',i+1)\n",
        "    #print('pesos :',pesos_capa)\n",
        "    y = []\n",
        "    entrada_aux = y_v[i]\n",
        "    if (i > 0):  # opcion: if(i!=0)\n",
        "      entrada_aux = np.insert(entrada_aux,0,-1)\n",
        "    y_v.append(sigmoid_v(np.dot(pesos_capa,entrada_aux),a))\n",
        "  return y_v[1:len(y_v)]\n",
        "\n",
        "# def propagacion_adelante(entradas,pesos,red_size,a):\n",
        "#   #print(entradas,\" aa \", pesos[0])\n",
        "#   y_v = [sigmoid_v(np. dot(pesos[0],entradas),a)]  # entradas = [-1,x1,x2] , y_v =[[-1,x1,x2]]\n",
        "#   for i in np.arange(1,len(red_size)):  # recorro las capas de la red\n",
        "#     entrada_aux = y_v[i-1]\n",
        "#     entrada_aux = np.insert(entrada_aux,0,-1)\n",
        "#     y_v.append(sigmoid_v(np.dot(pesos[i],entrada_aux),a))\n",
        "# return y_v"
      ],
      "metadata": {
        "id": "W2iZzP2RGPGm"
      },
      "execution_count": null,
      "outputs": []
    },
    {
      "cell_type": "code",
      "source": [
        "def calculo_error(yd,y):\n",
        "  return np.sum((yd-y)**2)"
      ],
      "metadata": {
        "id": "8rPiVb7nhAjk"
      },
      "execution_count": null,
      "outputs": []
    },
    {
      "cell_type": "code",
      "source": [
        "def propagacion_atras(salidas,salida_deseada,pesos,red_size):  # salidas = [[-1,x1,x2],[y1_oculta,y2_oculta],[y_final]]\n",
        "  # capa de salida\n",
        "  deltas = np.full(len(red_size),None); delta_aux = []; salida = salidas[len(salidas)-1];\n",
        "  for k in np.arange(0,len(salida)):\n",
        "    delta_aux.append( (salida_deseada[k]-salida[k])*(1+salida[k])*(1-salida[k])*0.5 )\n",
        "  deltas[-1] = np.array(delta_aux)\n",
        "  # capas ocultas\n",
        "  for j in range(len(red_size),1,-1):\n",
        "    delta_capa_superior = deltas[j-1]; # delta_capa_superior = [y_final]\n",
        "    delta_aux = [-1];\n",
        "    salida = salidas[j-2]; # entrada_aux = [y1_oculta,y2_oculta]\n",
        "    pesos_aux = np.transpose(pesos[j-1])\n",
        "    sum = np.dot(pesos_aux[1:],delta_capa_superior);\n",
        "    deltas[j-2]=( sum*(1+salida)*(1-salida)*0.5 )\n",
        "  return deltas"
      ],
      "metadata": {
        "id": "gxhypHnkg9rF"
      },
      "execution_count": null,
      "outputs": []
    },
    {
      "cell_type": "code",
      "source": [
        "def actualizo_pesos(deltas,entradas,salidas,pesos,eta,red_size):\n",
        "  #print(deltas,' ',entradas,' ',salidas,' ',pesos,' ',eta,' ',red_size)\n",
        "  for k in range(len(salidas)):\n",
        "    salidas[k] = np.insert(salidas[k],0,-1,) # agregamos -1 a cada vector de salidas\n",
        "  salidas.insert(0,entradas) #juntamos el vector de entradas con los vectores de salida\n",
        "  for j in np.arange(0,len(red_size)):  # recorro cada capa\n",
        "    pesos[j] += eta*deltas[j].reshape(len(deltas[j]),1)*salidas[j]\n",
        "  return pesos"
      ],
      "metadata": {
        "id": "0OjtWU5iTRb0"
      },
      "execution_count": null,
      "outputs": []
    },
    {
      "cell_type": "code",
      "source": [
        "# entrenamiento\n",
        "def entrenar_red(epocas_max,datos,pesos,eta,red_size,a):\n",
        "  epoca = 0; errores_epocas = np.zeros(epocas_max); cant_datos = len(datos)\n",
        "  while (epoca < epocas_max):\n",
        "    for i in np.arange(0,cant_datos):\n",
        "      patron_i = datos[i]\n",
        "      entradas = np.array(patron_i[:-1]) # devuelve el vector sin el ultimo elemento\n",
        "      yd = [patron_i[-1]] # deuelve el ultimo elemento\n",
        "      y = propagacion_adelante(entradas,pesos,red_size,a)\n",
        "      #if( calculo_error(yd,y[len(y)-1]) != 0 ):\n",
        "      deltas = propagacion_atras( y,yd,pesos,red_size )\n",
        "      pesos = actualizo_pesos(deltas,entradas,y,pesos,eta,red_size)\n",
        "    # evaluo desempeño\n",
        "    contador_error = 0; suma = 0\n",
        "    for i in np.arange(0,cant_datos):\n",
        "      patron_i = datos[i]\n",
        "      entradas = np.array(patron_i[:-1])\n",
        "      yd = [patron_i[-1]]\n",
        "      y = propagacion_adelante(entradas,pesos,red_size,a)\n",
        "      error = calculo_error(yd,y[-1])\n",
        "      suma+=error\n",
        "      y_final = y[-1][0]\n",
        "      y_final = np.sign(y_final)\n",
        "      if y_final != yd[0]:\n",
        "        contador_error+=1\n",
        "    #print(\"contador e \",contador_error)\n",
        "    if ( contador_error/cant_datos < 0.01):\n",
        "      break\n",
        "    errores_epocas[epoca] = suma/cant_datos\n",
        "    epoca+=1\n",
        "  return errores_epocas"
      ],
      "metadata": {
        "id": "XHb-ysDNDkXl"
      },
      "execution_count": null,
      "outputs": []
    },
    {
      "cell_type": "code",
      "source": [
        "import matplotlib.pyplot as plt\n",
        "print('pesos iniciales',pesos_ej1)\n",
        "errores_epocas = entrenar_red(500,datos_ej1,pesos_ej1,0.05,red_size,0.5)\n",
        "\n",
        "print('pesos actualizados',pesos_ej1)\n",
        "#print(errores_v[len(errores_v)-1])\n",
        "#print(errores_epocas)\n",
        "plt.plot(errores_epocas)"
      ],
      "metadata": {
        "id": "hsx3mgl1gt8w",
        "colab": {
          "base_uri": "https://localhost:8080/",
          "height": 521
        },
        "outputId": "8ef53d6a-9197-4d1b-df18-ef0af77f69ec"
      },
      "execution_count": null,
      "outputs": [
        {
          "output_type": "stream",
          "name": "stdout",
          "text": [
            "pesos iniciales [array([[ 0.08478709, -0.14753679,  0.40492297],\n",
            "       [ 0.24604563,  0.3887169 ,  0.19189366]]), array([[0.03911295, 0.49494471, 0.28389964]])]\n",
            "pesos actualizados [array([[-1.0762144 ,  2.74616328, -2.51086901],\n",
            "       [ 6.86575019,  5.61420796, -6.07826636]]), array([[-2.37123281, -3.12513266,  4.50945583]])]\n"
          ]
        },
        {
          "output_type": "execute_result",
          "data": {
            "text/plain": [
              "[<matplotlib.lines.Line2D at 0x786a76f81a20>]"
            ]
          },
          "metadata": {},
          "execution_count": 12
        },
        {
          "output_type": "display_data",
          "data": {
            "text/plain": [
              "<Figure size 640x480 with 1 Axes>"
            ],
            "image/png": "[encoded data removed]"
          },
          "metadata": {}
        }
      ]
    },
    {
      "cell_type": "code",
      "source": [
        "# cargamos los datos de prueba\n",
        "import numpy as np\n",
        "datos_prueba = np.genfromtxt(\"XOR_tst.csv\", delimiter=\",\" , skip_header=1)\n",
        "#datos_prueba = datos_prueba[0:99]\n",
        "datos_prueba_ej1 = np.insert(datos_prueba,0,-1,axis=1)\n",
        "#print(datos_prueba_ej1)"
      ],
      "metadata": {
        "id": "uoKoMI9qTyOg"
      },
      "execution_count": null,
      "outputs": []
    },
    {
      "cell_type": "code",
      "source": [
        "# prueba\n",
        "def prueba_red(datos_prueba,pesos,red_size,a):\n",
        "  contador_error = 0; salidas_red = np.zeros(len(datos_prueba)); errores_v = []; cant_datos = len(datos_prueba)\n",
        "  suma = 0\n",
        "  for i in np.arange(0,cant_datos):\n",
        "    patron_i = datos_prueba[i]\n",
        "    entradas = np.array(patron_i[:-1]) # devuelve el vector sin el ultimo elemento\n",
        "    yd = [patron_i[-1]]\n",
        "    y = propagacion_adelante(entradas,pesos,red_size,a)\n",
        "    salidas_red[i]= y[-1]\n",
        "    error = calculo_error(yd,y[-1])\n",
        "    if( error != 0):\n",
        "      contador_error+=1\n",
        "      suma+=error\n",
        "  errores_v.append(suma/cant_datos)\n",
        "  #print(errores_v)\n",
        "  return salidas_red,errores_v"
      ],
      "metadata": {
        "id": "uGxBIfGAfKdk"
      },
      "execution_count": null,
      "outputs": []
    },
    {
      "cell_type": "code",
      "source": [
        "errores_prueba = []\n",
        "for n in range(0,9):\n",
        "  datos_aux = datos_prueba_ej1[n*20:(n+1)*20]\n",
        "  salidas,errores_salidas = prueba_red(datos_aux,pesos_ej1,red_size,a=0.9)\n",
        "  errores_prueba.append(errores_salidas)\n",
        "#for n in np.arange(0,len(datos_pruebas)):\n",
        " # print('salida deseada: ',datos_pruebas[n][len(datos_pruebas[n])-1], ' salida red: ',salidas[n])\n",
        "#print(errores_salidas)\n",
        "plt.plot(errores_prueba)\n",
        "plt.show()"
      ],
      "metadata": {
        "colab": {
          "base_uri": "https://localhost:8080/",
          "height": 430
        },
        "id": "acSvPneUep_8",
        "outputId": "d041b513-0dcc-4931-b900-9818a2e6178f"
      },
      "execution_count": null,
      "outputs": [
        {
          "output_type": "display_data",
          "data": {
            "text/plain": [
              "<Figure size 640x480 with 1 Axes>"
            ],
            "image/png": "[encoded data removed]"
          },
          "metadata": {}
        }
      ]
    },
    {
      "cell_type": "markdown",
      "source": [
        "## Ejercicio 2\n",
        "Utilice para entrenamiento y prueba los conjuntos de datos concenttrn.csv y concent tst.csv, que consisten en dos clases distribuidas en forma concentrica como muestra la Figura 1. Determine la estructura de una red de tipo perceptron multicapa que resulte mas apropiada para resolver este\n",
        "problema. Represente graficamente, con diferentes colores, el resultado de la clasificacion realizada por el perceptron multicapa.\n"
      ],
      "metadata": {
        "id": "grN4bv6tavmM"
      }
    },
    {
      "cell_type": "code",
      "source": [
        "# cargamos los datos de entrenamiento\n",
        "import numpy as np\n",
        "datos_entrenamiento2 = np.genfromtxt(\"concent_trn.csv\", delimiter=\",\" , skip_header=1)\n",
        "#datos_entrenamiento2 = datos_entrenamiento2[0:99]\n",
        "# datos_ej2 = []\n",
        "# for i in np.arange(0,len(datos_entrenamiento2)):\n",
        "#  datos_ej2.append( np.insert(datos_entrenamiento2[i],0,-1) )\n",
        "datos_ej2 = np.insert(datos_entrenamiento2,0,-1,axis=1)\n",
        "print(datos_ej2[0:9])"
      ],
      "metadata": {
        "id": "lWaO5KlXbTpG",
        "colab": {
          "base_uri": "https://localhost:8080/"
        },
        "outputId": "bd450145-6e15-4069-f5eb-1df08ca43124"
      },
      "execution_count": null,
      "outputs": [
        {
          "output_type": "stream",
          "name": "stdout",
          "text": [
            "[[-1.          0.64509132  0.83106262  1.        ]\n",
            " [-1.          0.35075317  0.14122327  1.        ]\n",
            " [-1.          0.30528354  0.77442304  1.        ]\n",
            " [-1.          0.86238723  0.33126522  1.        ]\n",
            " [-1.          0.0339309   0.66083573  1.        ]\n",
            " [-1.          0.78465603  0.71216752  1.        ]\n",
            " [-1.          0.63544211  0.88904904  1.        ]\n",
            " [-1.          0.6787576   0.93680237  1.        ]\n",
            " [-1.          0.09708674  0.49261626  1.        ]]\n"
          ]
        }
      ]
    },
    {
      "cell_type": "code",
      "source": [
        "# definimos el tamaño de la red y la cantidad de neuronas en cada capa\n",
        "red_size_ej2 = [4,1]\n",
        "#print(np.dot([[1,2],[2,3]],[1,2]))"
      ],
      "metadata": {
        "id": "KZIIe0Tie1zx"
      },
      "execution_count": null,
      "outputs": []
    },
    {
      "cell_type": "code",
      "source": [
        "# defino la matriz de pesos\n",
        "pesos_ej2 = []\n",
        "pesos_ej2.append(np.random.rand(red_size_ej2[0],len(datos_entrenamiento2[0]))-0.5)\n",
        "for i in np.arange(1,len(red_size_ej2)):\n",
        "  pesos_ej2.append(np.random.rand(red_size_ej2[i],red_size_ej2[i-1]+1)-0.5)\n",
        "print(pesos_ej2)"
      ],
      "metadata": {
        "colab": {
          "base_uri": "https://localhost:8080/"
        },
        "id": "BMQ9FfcefP6l",
        "outputId": "55fb52ad-9f23-4f71-9364-df65e072414a"
      },
      "execution_count": null,
      "outputs": [
        {
          "output_type": "stream",
          "name": "stdout",
          "text": [
            "[array([[-0.25242594, -0.15673262, -0.14897605],\n",
            "       [-0.3182127 ,  0.42065474,  0.04627905],\n",
            "       [-0.24465184, -0.46113045, -0.0822152 ],\n",
            "       [-0.40006157,  0.24154012, -0.21892125]]), array([[-3.55097940e-01,  3.92902562e-01, -4.31456474e-01,\n",
            "         2.42827952e-04,  4.84488837e-01]])]\n"
          ]
        }
      ]
    },
    {
      "cell_type": "code",
      "source": [
        "# entreno la red\n",
        "errores_v_ej2 = entrenar_red(epocas_max=1000,datos=datos_ej2,pesos=pesos_ej2,eta=0.01,red_size=red_size_ej2,a=0.9)\n",
        "plt.plot(errores_v_ej2)\n",
        "plt.show()"
      ],
      "metadata": {
        "id": "Gk136wnbfEVt",
        "colab": {
          "base_uri": "https://localhost:8080/",
          "height": 430
        },
        "outputId": "c1162f11-742b-4ce1-b258-7293683d550c"
      },
      "execution_count": null,
      "outputs": [
        {
          "output_type": "display_data",
          "data": {
            "text/plain": [
              "<Figure size 640x480 with 1 Axes>"
            ],
            "image/png": "[encoded data removed]"
          },
          "metadata": {}
        }
      ]
    },
    {
      "cell_type": "code",
      "source": [
        "# cargamos los datos de prueba\n",
        "datos_prueba2 = np.genfromtxt(\"concent_tst.csv\", delimiter=\",\" , skip_header=1)\n",
        "#datos_prueba2 = datos_prueba2[:99]\n",
        "# datos_pruebas_ej2 = []\n",
        "# for i in np.arange(0,len(datos_prueba_ej2)):\n",
        "#   datos_pruebas_ej2.append( np.insert(datos_prueba_ej2[i],0,-1) )\n",
        "datos_prueba_ej2 = np.insert(datos_prueba2,0,-1,axis=1)\n",
        "print(datos_prueba_ej2)"
      ],
      "metadata": {
        "id": "F_b1xAYqf1GV",
        "colab": {
          "base_uri": "https://localhost:8080/"
        },
        "outputId": "16dcb3ab-93f4-45aa-e2ec-500d3ba710f6"
      },
      "execution_count": null,
      "outputs": [
        {
          "output_type": "stream",
          "name": "stdout",
          "text": [
            "[[-1.          0.85840725  0.37605679  1.        ]\n",
            " [-1.          0.09411867  0.41479737  1.        ]\n",
            " [-1.          0.6712616   0.11529791  1.        ]\n",
            " ...\n",
            " [-1.          0.36317742  0.19416855  1.        ]\n",
            " [-1.          0.49100246  0.3504763  -1.        ]\n",
            " [-1.          0.07623506  0.61705104  1.        ]]\n"
          ]
        }
      ]
    },
    {
      "cell_type": "code",
      "source": [
        "# prueba de la red\n",
        "salidas_ej2,errores_v = prueba_red(datos_prueba_ej2,pesos_ej2,red_size_ej2,a=0.9)\n",
        "for n in np.arange(0,10):\n",
        "  print('salida deseada: ',datos_prueba_ej2[n][-1], ' salida red: ',salidas_ej2[n])"
      ],
      "metadata": {
        "colab": {
          "base_uri": "https://localhost:8080/"
        },
        "id": "pFDAJdR4fxCX",
        "outputId": "5eb59eaa-9df0-4a69-b44b-ffffe0932044"
      },
      "execution_count": null,
      "outputs": [
        {
          "output_type": "stream",
          "name": "stdout",
          "text": [
            "salida deseada:  1.0  salida red:  0.9249240377872585\n",
            "salida deseada:  1.0  salida red:  0.8584744989492001\n",
            "salida deseada:  1.0  salida red:  0.9010740311661942\n",
            "salida deseada:  1.0  salida red:  0.9407623763905515\n",
            "salida deseada:  -1.0  salida red:  -0.9930495504480806\n",
            "salida deseada:  -1.0  salida red:  -0.8558709151479484\n",
            "salida deseada:  -1.0  salida red:  -0.9460432489307997\n",
            "salida deseada:  1.0  salida red:  0.9486381958690813\n",
            "salida deseada:  1.0  salida red:  -0.07980100016046487\n",
            "salida deseada:  1.0  salida red:  0.9786437718900218\n"
          ]
        }
      ]
    },
    {
      "cell_type": "code",
      "source": [
        "# dibujamos los resultados\n",
        "plt.figure('puntos del ejercicio 2')\n",
        "for n in np.arange(0,len(salidas_ej2)-1):\n",
        "  nodo = datos_prueba_ej2[n]\n",
        "  if(salidas_ej2[n] < 0):\n",
        "    plt.plot(nodo[1],nodo[2],'rs')\n",
        "  else:\n",
        "    plt.plot(nodo[1],nodo[2],'kx')\n",
        "plt.show()"
      ],
      "metadata": {
        "id": "Cw_MrzMZjp9t",
        "colab": {
          "base_uri": "https://localhost:8080/",
          "height": 430
        },
        "outputId": "78424af4-aff6-4e14-e641-098ea791ca39"
      },
      "execution_count": null,
      "outputs": [
        {
          "output_type": "display_data",
          "data": {
            "text/plain": [
              "<Figure size 640x480 with 1 Axes>"
            ],
            "image/png": "[encoded data removed]"
          },
          "metadata": {}
        }
      ]
    },
    {
      "cell_type": "markdown",
      "source": [
        "## Ejercicio 3\n",
        "Iris es el genero de una planta herbacea con flores que se utilizan en decoracion. Dentro de este genero existen muy diversas especies, entre las que\n",
        "se han estudiado: Iris setosa, Iris versicolor e Iris virginica (ver Figura 2).\n",
        "Estas tres especies pueden distinguirse segun las dimensiones de sus petalos y\n",
        "sepalos. Un grupo de investigadores ha recopilado la informacion correspondiente a las longitudes y anchos de los petalos y sepalos de 50 plantas de cada\n",
        "especie. En el archivo irisbin trn.csv se encuentra el conjunto de entrenamiento, y en irisbin tst.csv el de prueba, generado a partir de estas mediciones (en cm), junto con un codigo binario que indica la clase de cada muestra (especie) reconocida por el grupo de investigadores ([−1, −1, 1] = setosa,\n",
        "[−1, 1, −1] = versicolor, [1, −1, −1] = virginica).\n",
        "Determine la estructura optima de un perceptron multicapa para resolver este\n",
        "problema. Explore como varıa el desempeno al usar distintas tasas de aprendizaje, y para cada caso grafique las curvas de error cuadratico total y error\n",
        "de clasificacion en funcion de las epocas de entrenamiento.\n"
      ],
      "metadata": {
        "id": "mrQ8UP7hfqGE"
      }
    },
    {
      "cell_type": "code",
      "source": [
        "datos_entrenamiento3 = np.genfromtxt(\"irisbin_trn.csv\", delimiter=\",\" , skip_header=1)\n",
        "datos_ej3 = np.insert(datos_entrenamiento3,0,-1,axis=1)\n",
        "print(datos_ej3[0:9])"
      ],
      "metadata": {
        "id": "LedM6IfxgDeL",
        "colab": {
          "base_uri": "https://localhost:8080/"
        },
        "outputId": "e41a78ff-233c-4336-9bb1-c883edc9cbfd"
      },
      "execution_count": 45,
      "outputs": [
        {
          "output_type": "stream",
          "name": "stdout",
          "text": [
            "[[-1.   4.6  3.1  1.5  0.2 -1.  -1.   1. ]\n",
            " [-1.   5.8  4.   1.2  0.2 -1.  -1.   1. ]\n",
            " [-1.   6.1  2.9  4.7  1.4 -1.   1.  -1. ]\n",
            " [-1.   5.6  3.   4.5  1.5 -1.   1.  -1. ]\n",
            " [-1.   6.1  3.   4.9  1.8  1.  -1.  -1. ]\n",
            " [-1.   5.   3.3  1.4  0.2 -1.  -1.   1. ]\n",
            " [-1.   6.1  3.   4.9  1.8  1.  -1.  -1. ]\n",
            " [-1.   4.5  2.3  1.3  0.3 -1.  -1.   1. ]\n",
            " [-1.   6.1  2.9  4.7  1.4 -1.   1.  -1. ]]\n"
          ]
        }
      ]
    },
    {
      "cell_type": "code",
      "source": [
        "# red size\n",
        "red_size_ej3 = [4,3]\n"
      ],
      "metadata": {
        "id": "MovC_tVkMbKs"
      },
      "execution_count": 46,
      "outputs": []
    },
    {
      "cell_type": "code",
      "source": [
        "# pesos\n",
        "# defino la matriz de pesos\n",
        "pesos_ej3 = np.full(len(red_size_ej3),None)\n",
        "pesos_ej3[0] = np.random.rand(red_size_ej3[0],len(datos_entrenamiento3[0])-2)-0.5\n",
        "for i in np.arange(1,len(red_size_ej3)):\n",
        "  pesos_ej3[i] = np.random.rand(red_size_ej3[i],red_size_ej3[i-1]+1)-0.5\n",
        "print(pesos_ej3)"
      ],
      "metadata": {
        "colab": {
          "base_uri": "https://localhost:8080/"
        },
        "id": "uOihlCcKMXgv",
        "outputId": "bf2f7663-692d-409f-ad73-f489961c7b9c"
      },
      "execution_count": 47,
      "outputs": [
        {
          "output_type": "stream",
          "name": "stdout",
          "text": [
            "[array([[ 0.19737168, -0.20184639, -0.2808818 , -0.47735233,  0.37081488],\n",
            "        [-0.09598387,  0.41012717,  0.0916096 , -0.08511907,  0.26118574],\n",
            "        [ 0.25864459,  0.12300351,  0.39836756,  0.16595457,  0.45824806],\n",
            "        [ 0.14836204,  0.3647532 , -0.44361397, -0.15861945, -0.07639857]])\n",
            " array([[-0.46584771, -0.23093699,  0.20056061,  0.1687578 ,  0.20204444],\n",
            "        [ 0.36687392,  0.38406013, -0.36672298,  0.14986393,  0.31923928],\n",
            "        [ 0.03016579,  0.1138694 ,  0.06717484,  0.20511954, -0.30712577]])]\n"
          ]
        }
      ]
    },
    {
      "cell_type": "code",
      "source": [
        "def corregir_salida(y):\n",
        "  i_max = np.argmax(y)\n",
        "  y_corregido = np.ones(len(y))*(-1)\n",
        "  y_corregido[i_max] = 1\n",
        "  return y_corregido\n"
      ],
      "metadata": {
        "id": "nGI5YLLSgVc5"
      },
      "execution_count": 48,
      "outputs": []
    },
    {
      "cell_type": "code",
      "source": [
        "# entrenamiento\n",
        "def entrenar_red_ej3(epocas_max,datos,pesos,eta,red_size,a):\n",
        "  epoca = 0; errores_epocas = np.zeros(epocas_max); cant_datos = len(datos)\n",
        "  while (epoca < epocas_max):\n",
        "    for i in np.arange(0,cant_datos):\n",
        "      patron_i = datos[i]\n",
        "      entradas = np.array(patron_i[:-3])\n",
        "      yd = patron_i[-3:]\n",
        "      y = propagacion_adelante(entradas,pesos,red_size,a)\n",
        "      deltas = propagacion_atras( y,yd,pesos,red_size )\n",
        "      pesos = actualizo_pesos(deltas,entradas,y,pesos,eta,red_size)\n",
        "    # evaluo desempeño\n",
        "    contador_error = 0; suma = 0\n",
        "    for i in np.arange(0,cant_datos):\n",
        "      patron_i = datos[i]\n",
        "      entradas = np.array(patron_i[:-3])\n",
        "      yd = patron_i[-3:]\n",
        "      y = propagacion_adelante(entradas,pesos,red_size,a)\n",
        "      error = calculo_error(yd,y[-1])\n",
        "      suma+=error\n",
        "      #print(y[-1])\n",
        "      #print(np.sign(y[-1]))\n",
        "      y_final = corregir_salida(y[-1])\n",
        "      # if (y_final != yd[0]).all():s\n",
        "      if (np.array_equal(y_final,yd)):\n",
        "        contador_error+=1\n",
        "    #print(\"contador e \",contador_error)\n",
        "    if ( contador_error/cant_datos < 0.001):\n",
        "      break\n",
        "    errores_epocas[epoca] = suma/cant_datos\n",
        "    epoca+=1\n",
        "  return errores_epocas\n",
        "\n",
        "import matplotlib.pyplot as plt\n",
        "errores_v_ej3 = entrenar_red_ej3(epocas_max=1000,datos=datos_ej3,pesos=pesos_ej3,eta=0.01,red_size=red_size_ej3,a=0.9)\n",
        "plt.plot(errores_v_ej3)\n",
        "plt.show()"
      ],
      "metadata": {
        "id": "JISDHmoVMZoq",
        "colab": {
          "base_uri": "https://localhost:8080/",
          "height": 430
        },
        "outputId": "ec92ed84-4967-42d3-df1f-baf7fbb59641"
      },
      "execution_count": 54,
      "outputs": [
        {
          "output_type": "display_data",
          "data": {
            "text/plain": [
              "<Figure size 640x480 with 1 Axes>"
            ],
            "image/png": "[encoded data removed]"
          },
          "metadata": {}
        }
      ]
    },
    {
      "cell_type": "code",
      "source": [
        "# prueba\n",
        "# [−1, −1, 1] = setosa, [−1, 1, −1] = versicolor, [1, −1, −1] = virginica\n",
        "# cargamos los datos de prueba\n",
        "datos_prueba3 = np.genfromtxt(\"irisbin_tst.csv\", delimiter=\",\" , skip_header=1)\n",
        "datos_prueba_ej3 = np.insert(datos_prueba3,0,-1,axis=1)\n",
        "print(datos_prueba_ej3)"
      ],
      "metadata": {
        "id": "W21gLgXuMaZP",
        "colab": {
          "base_uri": "https://localhost:8080/"
        },
        "outputId": "c54790df-b3bc-4a73-8825-a0fd052f75c5"
      },
      "execution_count": 55,
      "outputs": [
        {
          "output_type": "stream",
          "name": "stdout",
          "text": [
            "[[-1.   6.2  2.9  4.3  1.3 -1.   1.  -1. ]\n",
            " [-1.   4.6  3.4  1.4  0.3 -1.  -1.   1. ]\n",
            " [-1.   5.4  3.9  1.7  0.4 -1.  -1.   1. ]\n",
            " [-1.   5.3  3.7  1.5  0.2 -1.  -1.   1. ]\n",
            " [-1.   5.1  3.8  1.9  0.4 -1.  -1.   1. ]\n",
            " [-1.   6.4  3.1  5.5  1.8  1.  -1.  -1. ]\n",
            " [-1.   7.7  2.6  6.9  2.3  1.  -1.  -1. ]\n",
            " [-1.   6.3  2.5  5.   1.9  1.  -1.  -1. ]\n",
            " [-1.   7.2  3.   5.8  1.6  1.  -1.  -1. ]\n",
            " [-1.   5.6  2.8  4.9  2.   1.  -1.  -1. ]\n",
            " [-1.   5.9  3.   5.1  1.8  1.  -1.  -1. ]\n",
            " [-1.   5.5  2.3  4.   1.3 -1.   1.  -1. ]\n",
            " [-1.   6.2  2.9  4.3  1.3 -1.   1.  -1. ]\n",
            " [-1.   4.6  3.1  1.5  0.2 -1.  -1.   1. ]\n",
            " [-1.   5.8  4.   1.2  0.2 -1.  -1.   1. ]\n",
            " [-1.   5.   3.3  1.4  0.2 -1.  -1.   1. ]\n",
            " [-1.   6.2  2.9  4.3  1.3 -1.   1.  -1. ]\n",
            " [-1.   5.   3.3  1.4  0.2 -1.  -1.   1. ]\n",
            " [-1.   6.2  2.9  4.3  1.3 -1.   1.  -1. ]\n",
            " [-1.   6.1  2.6  5.6  1.4  1.  -1.  -1. ]\n",
            " [-1.   5.6  3.   4.5  1.5 -1.   1.  -1. ]\n",
            " [-1.   7.7  3.8  6.7  2.2  1.  -1.  -1. ]\n",
            " [-1.   6.1  2.9  4.7  1.4 -1.   1.  -1. ]\n",
            " [-1.   6.3  2.9  5.6  1.8  1.  -1.  -1. ]\n",
            " [-1.   6.1  3.   4.6  1.4 -1.   1.  -1. ]\n",
            " [-1.   4.6  3.4  1.4  0.3 -1.  -1.   1. ]\n",
            " [-1.   6.7  3.3  5.7  2.1  1.  -1.  -1. ]\n",
            " [-1.   5.5  3.5  1.3  0.2 -1.  -1.   1. ]\n",
            " [-1.   5.5  2.3  4.   1.3 -1.   1.  -1. ]\n",
            " [-1.   6.7  3.1  4.4  1.4 -1.   1.  -1. ]\n",
            " [-1.   7.7  2.6  6.9  2.3  1.  -1.  -1. ]\n",
            " [-1.   5.1  3.3  1.7  0.5 -1.  -1.   1. ]\n",
            " [-1.   4.6  3.4  1.4  0.3 -1.  -1.   1. ]\n",
            " [-1.   4.7  3.2  1.3  0.2 -1.  -1.   1. ]\n",
            " [-1.   5.   3.5  1.3  0.3 -1.  -1.   1. ]\n",
            " [-1.   6.1  3.   4.6  1.4 -1.   1.  -1. ]\n",
            " [-1.   5.   3.5  1.3  0.3 -1.  -1.   1. ]]\n"
          ]
        }
      ]
    },
    {
      "cell_type": "code",
      "source": [
        "def prueba_red2(datos_prueba,pesos,red_size,a):\n",
        "  contador_error = 0; salidas_red = np.full(len(datos_prueba),None); errores_v = []; cant_datos = len(datos_prueba)\n",
        "  suma = 0\n",
        "  for i in np.arange(0,cant_datos):\n",
        "    patron_i = datos_prueba[i]\n",
        "    entradas = np.array(patron_i[:-3]) # devuelve el vector sin el ultimo elemento\n",
        "    yd = patron_i[-3:]\n",
        "    y = propagacion_adelante(entradas,pesos,red_size,a)\n",
        "    # salidas_red[i]= y[-1]\n",
        "    salidas_red[i]= corregir_salida(y[-1])\n",
        "    error = calculo_error(yd,y[-1])\n",
        "    if( error != 0):\n",
        "      contador_error+=1\n",
        "      suma+=error\n",
        "  errores_v.append(suma/cant_datos)\n",
        "  #print(errores_v)\n",
        "  return salidas_red,errores_v\n",
        "\n",
        "salidas_ej3,errores_v3 = prueba_red2(datos_prueba_ej3,pesos_ej3,red_size_ej3,a=0.9)\n",
        "for n in np.arange(0,len(datos_prueba_ej3)):\n",
        "  print('salida deseada: ',datos_prueba_ej3[n][-3:], ' salida red: ',salidas_ej3[n])"
      ],
      "metadata": {
        "id": "mPLlOqjIUmGb",
        "colab": {
          "base_uri": "https://localhost:8080/"
        },
        "outputId": "316b6d06-d1c9-4464-a2e0-1a104caad23f"
      },
      "execution_count": 56,
      "outputs": [
        {
          "output_type": "stream",
          "name": "stdout",
          "text": [
            "salida deseada:  [-1.  1. -1.]  salida red:  [-1.  1. -1.]\n",
            "salida deseada:  [-1. -1.  1.]  salida red:  [-1. -1.  1.]\n",
            "salida deseada:  [-1. -1.  1.]  salida red:  [-1. -1.  1.]\n",
            "salida deseada:  [-1. -1.  1.]  salida red:  [-1. -1.  1.]\n",
            "salida deseada:  [-1. -1.  1.]  salida red:  [-1. -1.  1.]\n",
            "salida deseada:  [ 1. -1. -1.]  salida red:  [ 1. -1. -1.]\n",
            "salida deseada:  [ 1. -1. -1.]  salida red:  [ 1. -1. -1.]\n",
            "salida deseada:  [ 1. -1. -1.]  salida red:  [ 1. -1. -1.]\n",
            "salida deseada:  [ 1. -1. -1.]  salida red:  [ 1. -1. -1.]\n",
            "salida deseada:  [ 1. -1. -1.]  salida red:  [ 1. -1. -1.]\n",
            "salida deseada:  [ 1. -1. -1.]  salida red:  [ 1. -1. -1.]\n",
            "salida deseada:  [-1.  1. -1.]  salida red:  [-1.  1. -1.]\n",
            "salida deseada:  [-1.  1. -1.]  salida red:  [-1.  1. -1.]\n",
            "salida deseada:  [-1. -1.  1.]  salida red:  [-1. -1.  1.]\n",
            "salida deseada:  [-1. -1.  1.]  salida red:  [-1. -1.  1.]\n",
            "salida deseada:  [-1. -1.  1.]  salida red:  [-1. -1.  1.]\n",
            "salida deseada:  [-1.  1. -1.]  salida red:  [-1.  1. -1.]\n",
            "salida deseada:  [-1. -1.  1.]  salida red:  [-1. -1.  1.]\n",
            "salida deseada:  [-1.  1. -1.]  salida red:  [-1.  1. -1.]\n",
            "salida deseada:  [ 1. -1. -1.]  salida red:  [ 1. -1. -1.]\n",
            "salida deseada:  [-1.  1. -1.]  salida red:  [-1.  1. -1.]\n",
            "salida deseada:  [ 1. -1. -1.]  salida red:  [ 1. -1. -1.]\n",
            "salida deseada:  [-1.  1. -1.]  salida red:  [-1.  1. -1.]\n",
            "salida deseada:  [ 1. -1. -1.]  salida red:  [ 1. -1. -1.]\n",
            "salida deseada:  [-1.  1. -1.]  salida red:  [-1.  1. -1.]\n",
            "salida deseada:  [-1. -1.  1.]  salida red:  [-1. -1.  1.]\n",
            "salida deseada:  [ 1. -1. -1.]  salida red:  [ 1. -1. -1.]\n",
            "salida deseada:  [-1. -1.  1.]  salida red:  [-1. -1.  1.]\n",
            "salida deseada:  [-1.  1. -1.]  salida red:  [-1.  1. -1.]\n",
            "salida deseada:  [-1.  1. -1.]  salida red:  [-1.  1. -1.]\n",
            "salida deseada:  [ 1. -1. -1.]  salida red:  [ 1. -1. -1.]\n",
            "salida deseada:  [-1. -1.  1.]  salida red:  [-1. -1.  1.]\n",
            "salida deseada:  [-1. -1.  1.]  salida red:  [-1. -1.  1.]\n",
            "salida deseada:  [-1. -1.  1.]  salida red:  [-1. -1.  1.]\n",
            "salida deseada:  [-1. -1.  1.]  salida red:  [-1. -1.  1.]\n",
            "salida deseada:  [-1.  1. -1.]  salida red:  [-1.  1. -1.]\n",
            "salida deseada:  [-1. -1.  1.]  salida red:  [-1. -1.  1.]\n"
          ]
        }
      ]
    }
  ]
}