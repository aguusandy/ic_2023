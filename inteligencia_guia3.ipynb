{
  "nbformat": 4,
  "nbformat_minor": 0,
  "metadata": {
    "colab": {
      "provenance": [],
      "authorship_tag": "ABX9TyN8NSo3oSETWhBOb03WCnih",
      "include_colab_link": true
    },
    "kernelspec": {
      "name": "python3",
      "display_name": "Python 3"
    },
    "language_info": {
      "name": "python"
    }
  },
  "cells": [
    {
      "cell_type": "markdown",
      "metadata": {
        "id": "view-in-github",
        "colab_type": "text"
      },
      "source": [
        "<a href=\"https://colab.research.google.com/github/aguusandy/ic_2023/blob/master/inteligencia_guia3.ipynb\" target=\"_parent\"><img src=\"https://colab.research.google.com/assets/colab-badge.svg\" alt=\"Open In Colab\"/></a>"
      ]
    },
    {
      "cell_type": "markdown",
      "source": [
        "# Guia Practica 3 IC 2023\n"
      ],
      "metadata": {
        "id": "X-x8Qe-0GYCb"
      }
    },
    {
      "cell_type": "markdown",
      "source": [
        "## Ejercicio 1:\n",
        "La biblioteca dispone de la funcion train test split, que permite generar una particion de entrenamiento y prueba, y KFold, que genera varias\n",
        "particiones de validacion cruzada.\n",
        "Estudie el uso de estas funciones y utilıcelas parar generar particiones a partir\n",
        "del conjunto de datos Digits que en Scikit-learn puede cargarse usando la\n",
        "funcion load digits del modulo datasets.\n",
        "Mediante MLPClassifier construya un perceptron multicapa adecuado para\n",
        "este conjunto de datos y analice su desempeño considerando:\n",
        "\n",
        "*   1 unica particion de datos genererada mediante train test split,\n",
        "*   5 particiones generadas mediante KFold\n",
        "*   10 particiones generadas mediante KFold.\n",
        "\n",
        "Para el analisis tenga en cuenta la media y la varianza de la tasa de acierto\n",
        "obtenida en cada particion."
      ],
      "metadata": {
        "id": "TVk8M3_GGi6x"
      }
    },
    {
      "cell_type": "code",
      "source": [
        "# imports\n",
        "import numpy as np\n",
        "from sklearn.neural_network import MLPClassifier\n",
        "from sklearn.model_selection import KFold,train_test_split\n",
        "from sklearn.datasets import load_digits\n"
      ],
      "metadata": {
        "id": "c37pgLIpOyNE"
      },
      "execution_count": 2,
      "outputs": []
    },
    {
      "cell_type": "code",
      "source": [
        "# cargamos los datos\n",
        "digits = load_digits(n_class=10)"
      ],
      "metadata": {
        "id": "l_ESxcVxWlUt"
      },
      "execution_count": 7,
      "outputs": []
    },
    {
      "cell_type": "code",
      "source": [
        "# 1 particion\n",
        "X_train, X_test, y_train, y_test = train_test_split(digits.data, digits.target, test_size = 0.2)\n",
        "# red neuronal\n",
        "clf = MLPClassifier(max_iter=500, hidden_layer_sizes=len(digits.data[0]), activation='logistic')"
      ],
      "metadata": {
        "id": "ZxfqEI9CWBFv"
      },
      "execution_count": 32,
      "outputs": []
    },
    {
      "cell_type": "code",
      "source": [
        "# entrenamiento\n",
        "clf.fit(X_train,y_train)"
      ],
      "metadata": {
        "colab": {
          "base_uri": "https://localhost:8080/",
          "height": 75
        },
        "id": "DYVU4B5mYtZE",
        "outputId": "4356d2ef-9d58-4f83-fee0-cdf198625fc3"
      },
      "execution_count": 33,
      "outputs": [
        {
          "output_type": "execute_result",
          "data": {
            "text/plain": [
              "MLPClassifier(activation='logistic', hidden_layer_sizes=64, max_iter=500)"
            ],
            "text/html": [
              "<style>#sk-container-id-2 {color: black;background-color: white;}#sk-container-id-2 pre{padding: 0;}#sk-container-id-2 div.sk-toggleable {background-color: white;}#sk-container-id-2 label.sk-toggleable__label {cursor: pointer;display: block;width: 100%;margin-bottom: 0;padding: 0.3em;box-sizing: border-box;text-align: center;}#sk-container-id-2 label.sk-toggleable__label-arrow:before {content: \"▸\";float: left;margin-right: 0.25em;color: #696969;}#sk-container-id-2 label.sk-toggleable__label-arrow:hover:before {color: black;}#sk-container-id-2 div.sk-estimator:hover label.sk-toggleable__label-arrow:before {color: black;}#sk-container-id-2 div.sk-toggleable__content {max-height: 0;max-width: 0;overflow: hidden;text-align: left;background-color: #f0f8ff;}#sk-container-id-2 div.sk-toggleable__content pre {margin: 0.2em;color: black;border-radius: 0.25em;background-color: #f0f8ff;}#sk-container-id-2 input.sk-toggleable__control:checked~div.sk-toggleable__content {max-height: 200px;max-width: 100%;overflow: auto;}#sk-container-id-2 input.sk-toggleable__control:checked~label.sk-toggleable__label-arrow:before {content: \"▾\";}#sk-container-id-2 div.sk-estimator input.sk-toggleable__control:checked~label.sk-toggleable__label {background-color: #d4ebff;}#sk-container-id-2 div.sk-label input.sk-toggleable__control:checked~label.sk-toggleable__label {background-color: #d4ebff;}#sk-container-id-2 input.sk-hidden--visually {border: 0;clip: rect(1px 1px 1px 1px);clip: rect(1px, 1px, 1px, 1px);height: 1px;margin: -1px;overflow: hidden;padding: 0;position: absolute;width: 1px;}#sk-container-id-2 div.sk-estimator {font-family: monospace;background-color: #f0f8ff;border: 1px dotted black;border-radius: 0.25em;box-sizing: border-box;margin-bottom: 0.5em;}#sk-container-id-2 div.sk-estimator:hover {background-color: #d4ebff;}#sk-container-id-2 div.sk-parallel-item::after {content: \"\";width: 100%;border-bottom: 1px solid gray;flex-grow: 1;}#sk-container-id-2 div.sk-label:hover label.sk-toggleable__label {background-color: #d4ebff;}#sk-container-id-2 div.sk-serial::before {content: \"\";position: absolute;border-left: 1px solid gray;box-sizing: border-box;top: 0;bottom: 0;left: 50%;z-index: 0;}#sk-container-id-2 div.sk-serial {display: flex;flex-direction: column;align-items: center;background-color: white;padding-right: 0.2em;padding-left: 0.2em;position: relative;}#sk-container-id-2 div.sk-item {position: relative;z-index: 1;}#sk-container-id-2 div.sk-parallel {display: flex;align-items: stretch;justify-content: center;background-color: white;position: relative;}#sk-container-id-2 div.sk-item::before, #sk-container-id-2 div.sk-parallel-item::before {content: \"\";position: absolute;border-left: 1px solid gray;box-sizing: border-box;top: 0;bottom: 0;left: 50%;z-index: -1;}#sk-container-id-2 div.sk-parallel-item {display: flex;flex-direction: column;z-index: 1;position: relative;background-color: white;}#sk-container-id-2 div.sk-parallel-item:first-child::after {align-self: flex-end;width: 50%;}#sk-container-id-2 div.sk-parallel-item:last-child::after {align-self: flex-start;width: 50%;}#sk-container-id-2 div.sk-parallel-item:only-child::after {width: 0;}#sk-container-id-2 div.sk-dashed-wrapped {border: 1px dashed gray;margin: 0 0.4em 0.5em 0.4em;box-sizing: border-box;padding-bottom: 0.4em;background-color: white;}#sk-container-id-2 div.sk-label label {font-family: monospace;font-weight: bold;display: inline-block;line-height: 1.2em;}#sk-container-id-2 div.sk-label-container {text-align: center;}#sk-container-id-2 div.sk-container {/* jupyter's `normalize.less` sets `[hidden] { display: none; }` but bootstrap.min.css set `[hidden] { display: none !important; }` so we also need the `!important` here to be able to override the default hidden behavior on the sphinx rendered scikit-learn.org. See: https://github.com/scikit-learn/scikit-learn/issues/21755 */display: inline-block !important;position: relative;}#sk-container-id-2 div.sk-text-repr-fallback {display: none;}</style><div id=\"sk-container-id-2\" class=\"sk-top-container\"><div class=\"sk-text-repr-fallback\"><pre>MLPClassifier(activation=&#x27;logistic&#x27;, hidden_layer_sizes=64, max_iter=500)</pre><b>In a Jupyter environment, please rerun this cell to show the HTML representation or trust the notebook. <br />On GitHub, the HTML representation is unable to render, please try loading this page with nbviewer.org.</b></div><div class=\"sk-container\" hidden><div class=\"sk-item\"><div class=\"sk-estimator sk-toggleable\"><input class=\"sk-toggleable__control sk-hidden--visually\" id=\"sk-estimator-id-2\" type=\"checkbox\" checked><label for=\"sk-estimator-id-2\" class=\"sk-toggleable__label sk-toggleable__label-arrow\">MLPClassifier</label><div class=\"sk-toggleable__content\"><pre>MLPClassifier(activation=&#x27;logistic&#x27;, hidden_layer_sizes=64, max_iter=500)</pre></div></div></div></div></div>"
            ]
          },
          "metadata": {},
          "execution_count": 33
        }
      ]
    },
    {
      "cell_type": "code",
      "source": [
        "# pruebas\n",
        "predict = clf.predict(X_test)\n",
        "for i in np.arange(0,20):\n",
        "  print('salida deseada ',y_test[i],', salida predecida ',predict[i])\n",
        "# accuracy\n",
        "print('Tasa aciertos: ',clf.score(X_test, y_test))"
      ],
      "metadata": {
        "colab": {
          "base_uri": "https://localhost:8080/"
        },
        "id": "4sleNx0TYvrx",
        "outputId": "5bc50b71-fa9f-412d-802f-821472b33287"
      },
      "execution_count": 34,
      "outputs": [
        {
          "output_type": "stream",
          "name": "stdout",
          "text": [
            "salida deseada  2 , salida predecida  2\n",
            "salida deseada  3 , salida predecida  3\n",
            "salida deseada  3 , salida predecida  3\n",
            "salida deseada  7 , salida predecida  7\n",
            "salida deseada  1 , salida predecida  1\n",
            "salida deseada  9 , salida predecida  9\n",
            "salida deseada  1 , salida predecida  1\n",
            "salida deseada  6 , salida predecida  6\n",
            "salida deseada  2 , salida predecida  2\n",
            "salida deseada  0 , salida predecida  0\n",
            "salida deseada  5 , salida predecida  5\n",
            "salida deseada  9 , salida predecida  9\n",
            "salida deseada  7 , salida predecida  7\n",
            "salida deseada  6 , salida predecida  6\n",
            "salida deseada  9 , salida predecida  9\n",
            "salida deseada  2 , salida predecida  2\n",
            "salida deseada  8 , salida predecida  8\n",
            "salida deseada  6 , salida predecida  6\n",
            "salida deseada  8 , salida predecida  8\n",
            "salida deseada  3 , salida predecida  3\n",
            "Tasa aciertos:  0.9694444444444444\n"
          ]
        }
      ]
    },
    {
      "cell_type": "code",
      "source": [
        "# 5 particiones\n",
        "kf = KFold(n_splits=5)\n",
        "predict_5 = np.full(5,None)\n",
        "accuracy_5 = np.full(5,None)\n",
        "for i, (train_index, test_index) in enumerate(kf.split(X=digits.data,y=digits.target)):\n",
        "  #print(f\"Fold {i}:\")\n",
        "  #print(f\"  Train: index={train_index}\",len(train_index))\n",
        "  #print(f\"  Test:  index={test_index}\",len(test_index))\n",
        "  #print(digits.data[train_index])\n",
        "  # train\n",
        "  clf.fit(digits.data[train_index],digits.target[train_index])\n",
        "  # test\n",
        "  predict_5[i] = clf.predict(digits.data[test_index])\n",
        "  # accuracy\n",
        "  accuracy_5[i] = clf.score(digits.data[test_index], digits.target[test_index])"
      ],
      "metadata": {
        "id": "TD5ZnaIMVqon"
      },
      "execution_count": 35,
      "outputs": []
    },
    {
      "cell_type": "code",
      "source": [
        "for i in np.arange(0,5):\n",
        "  print(f\"Fold {i+1}:\")\n",
        "  #print(f\"  Predictions:\")\n",
        "  #for j in np.arange(0,20):\n",
        "  #  print('salida deseada ',y_test[i],', salida predecida ',predict_5[i][j])\n",
        "  print(f\"Tasa aciertos: \",accuracy_5[i])\n",
        "print('Media aciertos Kfold = 5: ',accuracy_5.mean())\n",
        "print('Varianza aciertos Kfold = 5: ',accuracy_5.var())"
      ],
      "metadata": {
        "colab": {
          "base_uri": "https://localhost:8080/"
        },
        "id": "AnlJJO09irqO",
        "outputId": "9a9604c3-66d5-4990-fe7f-9783ecbc3cfc"
      },
      "execution_count": 36,
      "outputs": [
        {
          "output_type": "stream",
          "name": "stdout",
          "text": [
            "Fold 1:\n",
            "Tasa aciertos:  0.9472222222222222\n",
            "Fold 2:\n",
            "Tasa aciertos:  0.9194444444444444\n",
            "Fold 3:\n",
            "Tasa aciertos:  0.9498607242339833\n",
            "Fold 4:\n",
            "Tasa aciertos:  0.9805013927576601\n",
            "Fold 5:\n",
            "Tasa aciertos:  0.9275766016713092\n",
            "Media aciertos Kfold = 5:  0.9449210770659239\n",
            "Varianza aciertos Kfold = 5:  0.0004491087768686224\n"
          ]
        }
      ]
    },
    {
      "cell_type": "code",
      "source": [
        "# 10 particiones\n",
        "kf2 = KFold(n_splits=10)\n",
        "predict_10 = np.full(10,None)\n",
        "accuracy_10 = np.full(10,None)\n",
        "for i, (train_index, test_index) in enumerate(kf2.split(X=digits.data,y=digits.target)):\n",
        "  # train\n",
        "  clf.fit(digits.data[train_index],digits.target[train_index])\n",
        "  # test\n",
        "  predict_10[i] = clf.predict(digits.data[test_index])\n",
        "  # accuracy\n",
        "  accuracy_10[i] = clf.score(digits.data[test_index], digits.target[test_index])"
      ],
      "metadata": {
        "id": "iki6UQQbVrSL"
      },
      "execution_count": 37,
      "outputs": []
    },
    {
      "cell_type": "code",
      "source": [
        "for i in np.arange(0,10):\n",
        "  print(f\"Fold {i+1}:\")\n",
        "  #print(f\"  Predictions:\")\n",
        "  #for j in np.arange(0,20):\n",
        "  #  print('salida deseada ',y_test[i],', salida predecida ',predict_5[i][j])\n",
        "  print(f\"Tasa aciertos: \",accuracy_10[i])\n",
        "print('Media aciertos Kfold = 10: ',accuracy_10.mean())\n",
        "print('Varianza aciertos Kfold = 10: ',accuracy_10.var())"
      ],
      "metadata": {
        "colab": {
          "base_uri": "https://localhost:8080/"
        },
        "id": "exvmqbZPkMEX",
        "outputId": "c4a37bcc-2ebd-49bc-d5bd-ba835b788557"
      },
      "execution_count": 38,
      "outputs": [
        {
          "output_type": "stream",
          "name": "stdout",
          "text": [
            "Fold 1:\n",
            "Tasa aciertos:  0.9166666666666666\n",
            "Fold 2:\n",
            "Tasa aciertos:  0.9944444444444445\n",
            "Fold 3:\n",
            "Tasa aciertos:  0.9222222222222223\n",
            "Fold 4:\n",
            "Tasa aciertos:  0.9555555555555556\n",
            "Fold 5:\n",
            "Tasa aciertos:  0.9611111111111111\n",
            "Fold 6:\n",
            "Tasa aciertos:  0.9777777777777777\n",
            "Fold 7:\n",
            "Tasa aciertos:  0.9833333333333333\n",
            "Fold 8:\n",
            "Tasa aciertos:  0.9776536312849162\n",
            "Fold 9:\n",
            "Tasa aciertos:  0.9106145251396648\n",
            "Fold 10:\n",
            "Tasa aciertos:  0.9664804469273743\n",
            "Media aciertos Kfold = 10:  0.9565859714463066\n",
            "Varianza aciertos Kfold = 10:  0.0008048855613621588\n"
          ]
        }
      ]
    },
    {
      "cell_type": "markdown",
      "source": [
        "## Ejercicio 2:\n",
        "Mediante el esquema de cinco particiones generadas con KFold, compare el desempeño del perceptron multicapa con los siguientes clasificadores:\n",
        "\n",
        "*   Naive Bayes\n",
        "*   Analisis discriminante lineal\n",
        "*   K vecinos mas cercanos\n",
        "*   Arbol de decision  \n",
        "*   Maquina de soporte vectorial."
      ],
      "metadata": {
        "id": "ox3WcSXtOyxi"
      }
    },
    {
      "cell_type": "code",
      "source": [
        "# imports\n",
        "from sklearn import naive_bayes\n",
        "from sklearn.metrics import accuracy_score\n",
        "from sklearn.neighbors import KNeighborsClassifier\n",
        "from sklearn.tree import DecisionTreeClassifier\n",
        "from sklearn.svm import LinearSVC\n",
        "from sklearn.discriminant_analysis import LinearDiscriminantAnalysis"
      ],
      "metadata": {
        "id": "DjD_BNFXs46l"
      },
      "execution_count": 47,
      "outputs": []
    },
    {
      "cell_type": "code",
      "source": [
        "kf_ej2 = KFold(n_splits=5)\n",
        "\n",
        "predict_ej2 = np.full([5,5],None)\n",
        "accuracy_ej2 = np.full([5,5],None)\n",
        "# naive bayes\n",
        "naive_bayes_gaussian = naive_bayes.GaussianNB() # probamos cambiar con probabilidades gaussianas\n",
        "# descriminante lineal\n",
        "lda = LinearDiscriminantAnalysis(solver=\"lsqr\")\n",
        "# K vecinos mas cercanos\n",
        "k_neighbors = KNeighborsClassifier(n_neighbors=3) # probamos cambiar la cantidad de vecinos\n",
        "# Arbol de decision\n",
        "decision_tree = DecisionTreeClassifier(criterion='entropy', max_depth=4) # probamos cambiar la impureza y la cantidad de niveles\n",
        "# Maquina de soporte vectorial\n",
        "lvsc = LinearSVC()"
      ],
      "metadata": {
        "id": "yyrX0ct87jYW"
      },
      "execution_count": 55,
      "outputs": []
    },
    {
      "cell_type": "code",
      "source": [
        "for i, (train_index, test_index) in enumerate(kf_ej2.split(X=digits.data,y=digits.target)):\n",
        "  # train\n",
        "  naive_bayes_gaussian.fit(digits.data[train_index], digits.target[train_index])\n",
        "  lda.fit(digits.data[train_index], digits.target[train_index])\n",
        "  k_neighbors.fit(digits.data[train_index], digits.target[train_index])\n",
        "  decision_tree.fit(digits.data[train_index], digits.target[train_index])\n",
        "  lvsc.fit(digits.data[train_index], digits.target[train_index])\n",
        "  # test\n",
        "  predict_ej2[0][i] = naive_bayes_gaussian.predict(digits.data[test_index])\n",
        "  predict_ej2[1][i] = lda.predict(digits.data[test_index])\n",
        "  predict_ej2[2][i] = k_neighbors.predict(digits.data[test_index])\n",
        "  predict_ej2[3][i] = decision_tree.predict(digits.data[test_index])\n",
        "  predict_ej2[4][i] = lvsc.predict(digits.data[test_index])\n",
        "  # accuracy\n",
        "  accuracy_ej2[0][i] = accuracy_score(digits.target[test_index],predict_ej2[0][i])\n",
        "  accuracy_ej2[1][i] = accuracy_score(digits.target[test_index],predict_ej2[1][i])\n",
        "  accuracy_ej2[2][i] = accuracy_score(digits.target[test_index],predict_ej2[2][i])\n",
        "  accuracy_ej2[3][i] = accuracy_score(digits.target[test_index],predict_ej2[3][i])\n",
        "  accuracy_ej2[4][i] = accuracy_score(digits.target[test_index],predict_ej2[4][i])"
      ],
      "metadata": {
        "id": "Zmdz6-BHSEdK",
        "colab": {
          "base_uri": "https://localhost:8080/"
        },
        "outputId": "8a580b78-d7bd-4490-80b1-aae424971af5"
      },
      "execution_count": 56,
      "outputs": [
        {
          "output_type": "stream",
          "name": "stderr",
          "text": [
            "/usr/local/lib/python3.10/dist-packages/sklearn/svm/_base.py:1244: ConvergenceWarning: Liblinear failed to converge, increase the number of iterations.\n",
            "  warnings.warn(\n",
            "/usr/local/lib/python3.10/dist-packages/sklearn/svm/_base.py:1244: ConvergenceWarning: Liblinear failed to converge, increase the number of iterations.\n",
            "  warnings.warn(\n",
            "/usr/local/lib/python3.10/dist-packages/sklearn/svm/_base.py:1244: ConvergenceWarning: Liblinear failed to converge, increase the number of iterations.\n",
            "  warnings.warn(\n",
            "/usr/local/lib/python3.10/dist-packages/sklearn/svm/_base.py:1244: ConvergenceWarning: Liblinear failed to converge, increase the number of iterations.\n",
            "  warnings.warn(\n",
            "/usr/local/lib/python3.10/dist-packages/sklearn/svm/_base.py:1244: ConvergenceWarning: Liblinear failed to converge, increase the number of iterations.\n",
            "  warnings.warn(\n"
          ]
        }
      ]
    },
    {
      "cell_type": "code",
      "source": [
        "for i in np.arange(0,5):\n",
        "  print(f\"Fold {i+1}:\")\n",
        "  print(f\"Tasa aciertos Naive Bayes: \",accuracy_ej2[0][i])\n",
        "  print(f\"Tasa aciertos Analisis discriminante lineal: \",accuracy_ej2[1][i])\n",
        "  print(f\"Tasa aciertos K vecinos mas cercanos: \",accuracy_ej2[2][i])\n",
        "  print(f\"Tasa aciertos Arbol de decision: \",accuracy_ej2[3][i])\n",
        "  print(f\"Tasa aciertos Maquina de soporte vectorial: \",accuracy_ej2[4][i])\n",
        "  print(\"------------------------------------------------------------\")\n",
        "\n",
        "#print('Media aciertos Kfold = 5: ',accuracy_5.mean())\n",
        "#print('Varianza aciertos Kfold = 5: ',accuracy_5.var())"
      ],
      "metadata": {
        "colab": {
          "base_uri": "https://localhost:8080/"
        },
        "id": "yiZ73pBf70vT",
        "outputId": "9f975b12-4bc9-406b-f8e5-41a47aec3f07"
      },
      "execution_count": 57,
      "outputs": [
        {
          "output_type": "stream",
          "name": "stdout",
          "text": [
            "Fold 1:\n",
            "Tasa aciertos Naive Bayes:  0.7888888888888889\n",
            "Tasa aciertos Analisis discriminante lineal:  0.9361111111111111\n",
            "Tasa aciertos K vecinos mas cercanos:  0.9555555555555556\n",
            "Tasa aciertos Arbol de decision:  0.6416666666666667\n",
            "Tasa aciertos Maquina de soporte vectorial:  0.9\n",
            "------------------------------------------------------------\n",
            "Fold 2:\n",
            "Tasa aciertos Naive Bayes:  0.7888888888888889\n",
            "Tasa aciertos Analisis discriminante lineal:  0.875\n",
            "Tasa aciertos K vecinos mas cercanos:  0.9611111111111111\n",
            "Tasa aciertos Arbol de decision:  0.6083333333333333\n",
            "Tasa aciertos Maquina de soporte vectorial:  0.8611111111111112\n",
            "------------------------------------------------------------\n",
            "Fold 3:\n",
            "Tasa aciertos Naive Bayes:  0.7938718662952646\n",
            "Tasa aciertos Analisis discriminante lineal:  0.9136490250696379\n",
            "Tasa aciertos K vecinos mas cercanos:  0.9637883008356546\n",
            "Tasa aciertos Arbol de decision:  0.649025069637883\n",
            "Tasa aciertos Maquina de soporte vectorial:  0.9108635097493036\n",
            "------------------------------------------------------------\n",
            "Fold 4:\n",
            "Tasa aciertos Naive Bayes:  0.8746518105849582\n",
            "Tasa aciertos Analisis discriminante lineal:  0.9136490250696379\n",
            "Tasa aciertos K vecinos mas cercanos:  0.9860724233983287\n",
            "Tasa aciertos Arbol de decision:  0.6183844011142061\n",
            "Tasa aciertos Maquina de soporte vectorial:  0.9526462395543176\n",
            "------------------------------------------------------------\n",
            "Fold 5:\n",
            "Tasa aciertos Naive Bayes:  0.8133704735376045\n",
            "Tasa aciertos Analisis discriminante lineal:  0.8997214484679665\n",
            "Tasa aciertos K vecinos mas cercanos:  0.9665738161559888\n",
            "Tasa aciertos Arbol de decision:  0.6685236768802229\n",
            "Tasa aciertos Maquina de soporte vectorial:  0.8913649025069638\n",
            "------------------------------------------------------------\n"
          ]
        }
      ]
    },
    {
      "cell_type": "markdown",
      "source": [
        "## Ejercicio 3:\n",
        "Utilizando las funciones provistas por Scikit-learn, implememente los\n",
        "\n",
        "metodos de ensambles de clasificadores Bagging y AdaBoost. Compare el desempeño de estos modelos empleando 5 particiones con el conjunto de datos\n",
        "Wine."
      ],
      "metadata": {
        "id": "_KEvMHINPCSt"
      }
    }
  ]
}