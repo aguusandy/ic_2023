{
  "nbformat": 4,
  "nbformat_minor": 0,
  "metadata": {
    "colab": {
      "provenance": [],
      "include_colab_link": true
    },
    "kernelspec": {
      "name": "python3",
      "display_name": "Python 3"
    },
    "language_info": {
      "name": "python"
    }
  },
  "cells": [
    {
      "cell_type": "markdown",
      "metadata": {
        "id": "view-in-github",
        "colab_type": "text"
      },
      "source": [
        "<a href=\"https://colab.research.google.com/github/aguusandy/ic_2023/blob/master/Inteligencia_guia6.ipynb\" target=\"_parent\"><img src=\"https://colab.research.google.com/assets/colab-badge.svg\" alt=\"Open In Colab\"/></a>"
      ]
    },
    {
      "cell_type": "markdown",
      "source": [
        "## Guia 6 Práctica Inteligencia Computacional 2023"
      ],
      "metadata": {
        "id": "rGGqnv0mv-DB"
      }
    },
    {
      "cell_type": "markdown",
      "source": [
        "#Ejercicio 1:\n",
        "Implemente las estructuras de datos y algoritmos basicos para la solucion de un problema mediante algoritmos geneticos. Pruebe estas rutinas y compare los resultados con un metodo de gradiente descendiente para buscar el mınimo global de las siguientes funciones:\n",
        "\n",
        "i) f(x) = −x*sin(sqrt(|x|)) con x ∈ [−512 . . . 512]\n",
        "\n",
        "ii) f(x, y) = (x^2 + y^2)^(0.25)[sin(50*(x^2 + y^2)^(0.1) + 1)], con x, y ∈ [−100 . . . 100]\n",
        "\n"
      ],
      "metadata": {
        "id": "qJqAVsMgfse8"
      }
    },
    {
      "cell_type": "code",
      "source": [
        "import numpy as np\n",
        "import matplotlib.pyplot as plt"
      ],
      "metadata": {
        "id": "3xrl0QWzQ1GN"
      },
      "execution_count": 10,
      "outputs": []
    },
    {
      "cell_type": "code",
      "source": [
        "def f1(x):\n",
        "  return (-1)*x*np.sin(np.sqrt(np.abs(x)))"
      ],
      "metadata": {
        "id": "Np6V0mY6QtyA"
      },
      "execution_count": 2,
      "outputs": []
    },
    {
      "cell_type": "code",
      "source": [
        "def f2(x,y):\n",
        "  return ((x^2 + y^2)^(0.25))*np.sin(50*(x^2 + y^2)^(0.1) + 1)"
      ],
      "metadata": {
        "id": "vUJ4QueDRGep"
      },
      "execution_count": 3,
      "outputs": []
    },
    {
      "cell_type": "code",
      "source": [
        "def decode(individuo):\n",
        "  num = 0;  individuo_aux = individuo[::-1];  tamaño_individuo = len(individuo)\n",
        "  for i in np.arange(0,tamaño_individuo):\n",
        "    num = num + individuo_aux[i]*(np.power(2,(i),dtype='float32'))\n",
        "    # print('i ',i,' individuo[i] ',individuo_aux[i])\n",
        "    # print('suma ',num)\n",
        "  return num-512"
      ],
      "metadata": {
        "id": "Jd2AemQQU764"
      },
      "execution_count": 25,
      "outputs": []
    },
    {
      "cell_type": "code",
      "source": [
        "def binarioADecimal(self,ind,menor,mayor):\n",
        "  x = 0\n",
        "  for k,i in enumerate(ind[::-1]):\n",
        "      x += (i * 2**k)\n",
        "  x = menor + ((mayor-menor)/ (2**self.numBitsIndividuo-1)) * x"
      ],
      "metadata": {
        "id": "QRfZnaJ3Y3aF"
      },
      "execution_count": null,
      "outputs": []
    },
    {
      "cell_type": "code",
      "source": [
        "def repetido(seleccionado,seleccionados):\n",
        "   bandera = False\n",
        "   if len(np.where(seleccionados==seleccionado)[0]) > 0:\n",
        "     bandera = True\n",
        "   return bandera"
      ],
      "metadata": {
        "id": "wdHUasyQw8YN"
      },
      "execution_count": null,
      "outputs": []
    },
    {
      "cell_type": "code",
      "source": [
        "def seleccion_competencia(k_seleccionados,tamaño_poblacion,fitness):\n",
        "  # tomamos al azar k individuos no repetidos y devolvemos el índice del individuo que tenga mejor fitness\n",
        "  seleccionados = np.full(k_seleccionados,-1)\n",
        "  for i in np.arange(0,k_seleccionados):\n",
        "    seleccionado = np.random.randint(low=0,high=tamaño_poblacion)\n",
        "    while (np.isin(seleccionado, seleccionados)): # verificamos que el seleccionado no sea repetido\n",
        "      seleccionado = np.random.randint(low=0,high=tamaño_poblacion)\n",
        "    seleccionados[i] = seleccionado\n",
        "\n",
        "  #   print('iteracion i = ',i,' seleccionados',seleccionados)\n",
        "  # print('fitness seleccionados: ',fitness[seleccionados])\n",
        "  # print('minimo fitness: ', np.argmin(fitness[seleccionados]))\n",
        "  # print('minimo ',seleccionados[np.argmin(fitness[seleccionados])])\n",
        "  return seleccionados[np.argmin(fitness[seleccionados])]"
      ],
      "metadata": {
        "id": "0R9u3ZYqwLPw"
      },
      "execution_count": 5,
      "outputs": []
    },
    {
      "cell_type": "code",
      "source": [
        "def generar_individuo(tamaño_individuo):\n",
        "  # genera un vector cuyos valores son 0 y 1 al azar\n",
        "  individuo = np.full(tamaño_individuo,None)\n",
        "  for i in np.arange(0,tamaño_individuo):\n",
        "    individuo[i] = np.random.randint(low=0, high=2)\n",
        "  return individuo"
      ],
      "metadata": {
        "id": "8bqq4lYPZN7x"
      },
      "execution_count": 6,
      "outputs": []
    },
    {
      "cell_type": "code",
      "source": [
        "def mutacion_individuo(individuo):\n",
        "  # tomamos una posición al azar y cambiamos está por 1 o 0 respectivamente\n",
        "  posicion_mutar = np.random.randint(low=0, high=len(individuo))\n",
        "  if individuo[posicion_mutar] == 0:\n",
        "    individuo[posicion_mutar] = 1\n",
        "  else:\n",
        "    individuo[posicion_mutar] = 0"
      ],
      "metadata": {
        "id": "P2wyOII6lkIt"
      },
      "execution_count": 7,
      "outputs": []
    },
    {
      "cell_type": "code",
      "source": [
        "def cruza_individuos(individuo1,individuo2):\n",
        "  # tomamos 2 individuos y generamos un numero al azar dónde se cambiarán dichos valores\n",
        "  # de los individuos por los del otro\n",
        "  ind_mutar = np.random.randint(low=0, high=len(individuo1))\n",
        "  aux = individuo1[ind_mutar:]\n",
        "  individuo1[ind_mutar:] = individuo2[ind_mutar:]\n",
        "  individuo2[ind_mutar:] = aux"
      ],
      "metadata": {
        "id": "2tRbfIB4s48W"
      },
      "execution_count": 8,
      "outputs": []
    },
    {
      "cell_type": "code",
      "execution_count": 87,
      "metadata": {
        "id": "Zu4Apc8yfIAt"
      },
      "outputs": [],
      "source": [
        "# ALGORITMO GENETICO:\n",
        "\n",
        "# i) f(x) = −x*sin(sqrt(|x|)) con x ∈ [−512 . . . 512]\n",
        "\n",
        "# iniciar la poblacion con su fitness con 10 bits represento el x, ya que x ∈ [−512 . . . 512]\n",
        "tamaño_individuo = 10\n",
        "tamaño_poblacion = 10\n",
        "iteraciones_max = 2000\n",
        "k_progenitores = 4     # cantidad de progenitores a elegir\n",
        "paciencia_max = 5\n",
        "\n",
        "poblacion = np.full(tamaño_poblacion,None)\n",
        "fitness = np.full(tamaño_poblacion,None)\n",
        "for i in np.arange(0,tamaño_poblacion):\n",
        "  poblacion[i] = generar_individuo(tamaño_individuo) # generamos la poblacion de individuos\n",
        "  fitness[i] = f1(decode(poblacion[i]))   # obtenemos el mejor fitness evaluando toda la poblacion -> f1 funcion de fitness\n",
        "\n",
        "individuo_mejorFitness = poblacion[np.argmin(fitness)]\n",
        "\n",
        "progenitores = np.full(k_progenitores,None)\n",
        "iteracion = 0\n",
        "paciencia = 0\n",
        "# mientras\n",
        "while iteracion < iteraciones_max and paciencia <= paciencia_max:\n",
        "  # seleccionamos los progenitores -> seleccion por competencia k = 5, numero de progenitores = 10\n",
        "  for i in np.arange(0,k_progenitores):\n",
        "    progenitores[i] = seleccion_competencia(5,tamaño_poblacion,fitness)\n",
        "\n",
        "  # cruza/mutacion de la proxima generacion\n",
        "  for i in np.arange(0,k_progenitores,2):\n",
        "    if np.random.rand() <= 0.9: # probabilidad_cruza <= 0.9\n",
        "      cruza_individuos(poblacion[progenitores[i]],poblacion[progenitores[i+1]])\n",
        "    if np.random.rand() <= 0.1: # probabilidad_mutacion <= 0.1\n",
        "      mutacion_individuo(poblacion[progenitores[i]])\n",
        "      mutacion_individuo(poblacion[progenitores[i+1]])\n",
        "  # obtenemos el mejor fitness evaluando la nueva poblacion\n",
        "  for i in np.arange(0,tamaño_poblacion):\n",
        "    fitness[i] = f1(decode(poblacion[i]))\n",
        "  individuo_mejorFitness_aux = poblacion[np.argmin(fitness)]\n",
        "  if f1(decode(individuo_mejorFitness_aux)) < f1(decode(individuo_mejorFitness)):\n",
        "    individuo_mejorFitness = individuo_mejorFitness_aux\n",
        "    paciencia = 0\n",
        "  else:\n",
        "    paciencia+=1\n",
        "\n",
        "  iteracion+=1\n",
        "# endwhile"
      ]
    },
    {
      "cell_type": "code",
      "source": [
        "print('Cantidad de iteraciones: ',iteracion)\n",
        "print('Individuo con mejor fitness: ',decode(individuo_mejorFitness))\n",
        "print('Mejor fitness encontrado: ',f1(decode(individuo_mejorFitness)))\n",
        "x = np.linspace(-512, 512,num=2048)\n",
        "y = f1(x)\n",
        "#mejor =\n",
        "plt.plot(x,y,'b-')\n",
        "plt.plot(decode(individuo_mejorFitness),f1(decode(individuo_mejorFitness)),'*r')\n",
        "plt.title('Funcion −x*sin(sqrt(|x|))')\n",
        "plt.xlabel('valor de x: individuo')\n",
        "plt.xlabel('valor de y: fitness')\n",
        "plt.grid()\n",
        "plt.show()"
      ],
      "metadata": {
        "colab": {
          "base_uri": "https://localhost:8080/",
          "height": 524
        },
        "id": "_hmjb-MalBDZ",
        "outputId": "46ab30e9-23fc-4ada-b787-93c5d0d7663e"
      },
      "execution_count": 89,
      "outputs": [
        {
          "output_type": "stream",
          "name": "stdout",
          "text": [
            "Cantidad de iteraciones:  6\n",
            "Individuo con mejor fitness:  417.0\n",
            "Mejor fitness encontrado:  -416.99998938753396\n"
          ]
        },
        {
          "output_type": "display_data",
          "data": {
            "text/plain": [
              "<Figure size 640x480 with 1 Axes>"
            ],
            "image/png": "[encoded data removed]"
          },
          "metadata": {}
        }
      ]
    },
    {
      "cell_type": "code",
      "source": [
        "def decode2(individuo):\n",
        "  num = [0,0];  individuo_aux = individuo[::-1];  tamaño_individuo = len(individuo); mitad = int(tamaño_individuo/2)\n",
        "  print('rango x ',individuo_aux[0:mitad])\n",
        "  print('rango y ',individuo_aux[mitad:])\n",
        "  for i in np.arange(0,mitad):\n",
        "    num[0] = num[0] + individuo_aux[i]*(np.power(2,(i),dtype='float32'))\n",
        "  for i in np.arange(mitad,tamaño_individuo):\n",
        "    num[1] = num[1] + individuo_aux[i]*(np.power(2,(i-mitad),dtype='float32'))\n",
        "  return num"
      ],
      "metadata": {
        "id": "nn9y105ETCKu"
      },
      "execution_count": null,
      "outputs": []
    },
    {
      "cell_type": "code",
      "source": [
        " # ii) f(x, y) = (x^2 + y^2)^(0.25)[sin(50*(x^2 + y^2)^(0.1) + 1)], con x, y ∈ [−100 . . . 100]\n",
        "\n",
        "# con 8 bits represento el x, ya que x ∈ [−100 . . . 100]\n",
        "# y con 16 represento los valores para x y para y,\n",
        "tamaño_individuo = 16\n",
        "tamaño_poblacion = 100\n",
        "#fitnessRequerido = 0\n",
        "iteraciones_max = 2000\n",
        "k_progenitores = 10\n",
        "poblacion = np.full(tamaño_poblacion,None)\n",
        "for i in np.arange(0,tamaño_poblacion):\n",
        "  poblacion[i] = generar_individuo(tamaño_individuo)\n",
        "fitness = np.full(tamaño_poblacion,None)\n",
        "for i in np.arange(0,tamaño_poblacion):\n",
        "  fitness[i] = f2(decode(poblacion[i])-np.array([10,10]))   # f2 funcion de fitness\n",
        "mejorFitness = fitness[np.argmin(fitness)]\n",
        "iteracion = 0\n",
        "while iteracion < iteraciones_max:\n",
        "  progenitores = np.full(k_progenitores,None)\n",
        "  for i in np.arange(0,k_progenitores):\n",
        "    progenitores[i] = seleccion_competencia(k_progenitores,tamaño_poblacion,fitness)\n",
        "  for i in np.arange(0,k_progenitores,2):\n",
        "    probabilidad_cruza = np.random.rand()\n",
        "    if probabilidad_cruza <= 0.9:\n",
        "      cruza_individuos(poblacion[progenitores[i]],poblacion[progenitores[i+1]])\n",
        "    probabilidad_mutacion = np.random.rand()\n",
        "    if probabilidad_mutacion <= 0.1:\n",
        "      mutacion_individuo(poblacion[progenitores[i]])\n",
        "      mutacion_individuo(poblacion[progenitores[i+1]])\n",
        "  for i in np.arange(0,tamaño_poblacion):\n",
        "    fitness[i] = f2(decode(poblacion[i])-np.array([10,10]))\n",
        "  mejorFitness = fitness[np.argmin(fitness)]\n",
        "\n",
        "  iteracion+=1\n",
        "# endwhile"
      ],
      "metadata": {
        "id": "FZfxYhFgSodu"
      },
      "execution_count": null,
      "outputs": []
    },
    {
      "cell_type": "code",
      "source": [
        "print(decode2([1,0,0,0,0,0,0,0,0,0,0,0,0,0,0,0])-np.array([100,100]))"
      ],
      "metadata": {
        "colab": {
          "base_uri": "https://localhost:8080/"
        },
        "id": "9RYVVSnUb_Wb",
        "outputId": "37ee1080-d82a-4519-9e76-330ef0729db6"
      },
      "execution_count": null,
      "outputs": [
        {
          "output_type": "stream",
          "name": "stdout",
          "text": [
            "rango x  [0, 0, 0, 0, 0, 0, 0, 0]\n",
            "rango y  [0, 0, 0, 0, 0, 0, 0, 1]\n",
            "[-100.   28.]\n"
          ]
        }
      ]
    },
    {
      "cell_type": "code",
      "source": [
        "print(decode2([1,1,1,1,1,1,1,1,0,0,0,0,0,0,0,0])-np.array([100,155]))"
      ],
      "metadata": {
        "colab": {
          "base_uri": "https://localhost:8080/"
        },
        "id": "KxVeJbqcio_D",
        "outputId": "b5fd016a-1d57-4db5-c935-2f2eccc4371d"
      },
      "execution_count": null,
      "outputs": [
        {
          "output_type": "stream",
          "name": "stdout",
          "text": [
            "rango x  [0, 0, 0, 0, 0, 0, 0, 0]\n",
            "rango y  [1, 1, 1, 1, 1, 1, 1, 1]\n",
            "[-100.  100.]\n"
          ]
        }
      ]
    },
    {
      "cell_type": "markdown",
      "source": [
        "\n",
        "#Ejercicio 2:\n",
        "Disene e implemente un algoritmo genetico que busque el mejor subconjunto de caracterısticas para la clasificacion de cancer leucemia linfocıtica aguda y leucemia mielogena aguda) a partir de datos genomicos. Se proveen 38 muestras en el conjunto de entrenamiento y 34 en el conjunto de prueba (leukemia train.csv y leukemia test.csv, respectivamente). Cada muestra se compone de un total de 7129 caracterısticas, que corresponden a valores de expresion genica"
      ],
      "metadata": {
        "id": "RCn0Ud1QQExN"
      }
    },
    {
      "cell_type": "code",
      "source": [
        "import numpy as np\n",
        "train_leukemia = np.genfromtxt(\"leukemia_train.csv\", delimiter=\",\" , skip_header=1)\n",
        "print(np.min(train_leukemia))\n",
        "print(np.max(train_leukemia))"
      ],
      "metadata": {
        "colab": {
          "base_uri": "https://localhost:8080/"
        },
        "id": "k32N6FRK2yaJ",
        "outputId": "968c02f5-5149-4f29-d19c-3c54c4a9ab4d"
      },
      "execution_count": null,
      "outputs": [
        {
          "output_type": "stream",
          "name": "stdout",
          "text": [
            "-28400.0\n",
            "61228.0\n"
          ]
        }
      ]
    },
    {
      "cell_type": "code",
      "source": [
        "# ALGORITMO GENETICO:\n",
        "\n",
        "# i) f(x) = −x*sin(sqrt(|x|)) con x ∈ [−512 . . . 512]\n",
        "\n",
        "# iniciar la poblacion con su fitness\n",
        "# con 9 bits represento el x, ya que x ∈ [−512 . . . 512]\n",
        "tamaño_individuo = 7129   # cantidad de caracteristicas?\n",
        "tamaño_caracterisca = 17  #2^17 =   131.072 > 61.228 x2\n",
        "tamaño_poblacion = 38 # 38 datos de prueba\n",
        "fitnessRequerido = -2**10 # ni deea que poner aca che\n",
        "iteraciones_max = 2000\n",
        "k_progenitores = 10     # cantidad de progenitores a elegir\n",
        "# generamos la poblacion de individuos\n",
        "poblacion = np.full((tamaño_poblacion,tamaño_individuo),None)\n",
        "\n",
        "for i in np.arange(0,tamaño_poblacion):\n",
        "  for j in range(tamaño_individuo):\n",
        "    poblacion[i,j] = generar_individuo(tamaño_caracterisca)\n",
        "# obtenemos el mejor fitness evaluando toda la poblacion\n",
        "fitness = np.full(tamaño_poblacion,None)\n",
        "for i in np.arange(0,tamaño_poblacion): # estos dos for no se podrian juntar???????????\n",
        "  suma = 0\n",
        "  for j in range(tamaño_individuo)\n",
        "    suma+= f1(decode(poblacion[i,j])-2**17)   # f1 funcion de fitness\n",
        "fitness[i] = np.average(suma) # le mando promedio de caracteriscas porque la verdad no se que ponerle\n",
        "\n",
        "#mejorFitness_aux = fitness[np.argmin(fitness)]\n",
        "mejorFitness = np.min(fitness)\n",
        "print('mejor fitness inicial',mejorFitness)\n",
        "# mientras mejorFitness < fitnessRequerido\n",
        "iteracion = 0\n",
        "while iteracion < iteraciones_max:\n",
        "  # seleccionamos los progenitores -> seleccion por competencia k = 5, numero de progenitores = 10\n",
        "  progenitores = np.full(k_progenitores,None)\n",
        "  for i in np.arange(0,k_progenitores):\n",
        "    progenitores[i] = seleccion_competencia(k_progenitores,tamaño_poblacion,fitness)\n",
        "    # while repetido(progenitores[i], progenitores) == True:\n",
        "      # progenitores[i] = seleccion_competencia(k,tamaño_poblacion,fitness)\n",
        "  # cruza/mutacion de la proxima generacion\n",
        "  for i in np.arange(0,k_progenitores,2):\n",
        "    probabilidad_cruza = np.random.rand()\n",
        "    if probabilidad_cruza <= 0.9:\n",
        "      cruza_individuos(poblacion[progenitores[i]],poblacion[progenitores[i+1]]) # habria que hacer una nueva funcion de cruza y mutacion?\n",
        "    probabilidad_mutacion = np.random.rand()\n",
        "    if probabilidad_mutacion <= 0.1:\n",
        "      mutacion_individuo(poblacion[progenitores[i]])\n",
        "      mutacion_individuo(poblacion[progenitores[i+1]])\n",
        "  # obtenemos el mejor fitness evaluando la nueva poblacion\n",
        "  for i in np.arange(0,tamaño_poblacion):\n",
        "    fitness[i] = f1(decode(poblacion[i])-512)\n",
        "  #mejorFitness_aux = fitness[np.argmin(fitness)]\n",
        "  mejorFitness_aux = np.min(fitness)\n",
        "  if mejorFitness_aux < mejorFitness:\n",
        "    mejorFitness = mejorFitness_aux\n",
        "    print('nuevo mejor fitness ',mejorFitness)\n",
        "  iteracion+=1\n",
        "# endwhile"
      ],
      "metadata": {
        "id": "hnL4YXH34hM0",
        "colab": {
          "base_uri": "https://localhost:8080/",
          "height": 487
        },
        "outputId": "0da16d6f-2e96-4e53-c3ca-ededf3fe15df"
      },
      "execution_count": null,
      "outputs": [
        {
          "output_type": "stream",
          "name": "stderr",
          "text": [
            "<ipython-input-9-60fef9f0d149>:4: RuntimeWarning: overflow encountered in power\n",
            "  num = num + individuo_aux[i]*(np.power(2,(i),dtype='float32'))\n",
            "<ipython-input-9-60fef9f0d149>:4: RuntimeWarning: invalid value encountered in multiply\n",
            "  num = num + individuo_aux[i]*(np.power(2,(i),dtype='float32'))\n"
          ]
        },
        {
          "output_type": "error",
          "ename": "TypeError",
          "evalue": "ignored",
          "traceback": [
            "\u001b[0;31m---------------------------------------------------------------------------\u001b[0m",
            "\u001b[0;31mAttributeError\u001b[0m                            Traceback (most recent call last)",
            "\u001b[0;31mAttributeError\u001b[0m: 'float' object has no attribute 'sqrt'",
            "\nThe above exception was the direct cause of the following exception:\n",
            "\u001b[0;31mTypeError\u001b[0m                                 Traceback (most recent call last)",
            "\u001b[0;32m<ipython-input-21-63872938d19f>\u001b[0m in \u001b[0;36m<cell line: 21>\u001b[0;34m()\u001b[0m\n\u001b[1;32m     20\u001b[0m \u001b[0mfitness\u001b[0m \u001b[0;34m=\u001b[0m \u001b[0mnp\u001b[0m\u001b[0;34m.\u001b[0m\u001b[0mfull\u001b[0m\u001b[0;34m(\u001b[0m\u001b[0mtamaño_poblacion\u001b[0m\u001b[0;34m,\u001b[0m\u001b[0;32mNone\u001b[0m\u001b[0;34m)\u001b[0m\u001b[0;34m\u001b[0m\u001b[0;34m\u001b[0m\u001b[0m\n\u001b[1;32m     21\u001b[0m \u001b[0;32mfor\u001b[0m \u001b[0mi\u001b[0m \u001b[0;32min\u001b[0m \u001b[0mnp\u001b[0m\u001b[0;34m.\u001b[0m\u001b[0marange\u001b[0m\u001b[0;34m(\u001b[0m\u001b[0;36m0\u001b[0m\u001b[0;34m,\u001b[0m\u001b[0mtamaño_poblacion\u001b[0m\u001b[0;34m)\u001b[0m\u001b[0;34m:\u001b[0m \u001b[0;31m# estos dos for no se podrian juntar???????????\u001b[0m\u001b[0;34m\u001b[0m\u001b[0;34m\u001b[0m\u001b[0m\n\u001b[0;32m---> 22\u001b[0;31m   \u001b[0mfitness\u001b[0m\u001b[0;34m[\u001b[0m\u001b[0mi\u001b[0m\u001b[0;34m]\u001b[0m \u001b[0;34m=\u001b[0m \u001b[0mf1\u001b[0m\u001b[0;34m(\u001b[0m\u001b[0mdecode\u001b[0m\u001b[0;34m(\u001b[0m\u001b[0mpoblacion\u001b[0m\u001b[0;34m[\u001b[0m\u001b[0mi\u001b[0m\u001b[0;34m]\u001b[0m\u001b[0;34m)\u001b[0m\u001b[0;34m-\u001b[0m\u001b[0;36m512\u001b[0m\u001b[0;34m)\u001b[0m   \u001b[0;31m# f1 funcion de fitness\u001b[0m\u001b[0;34m\u001b[0m\u001b[0;34m\u001b[0m\u001b[0m\n\u001b[0m\u001b[1;32m     23\u001b[0m \u001b[0;31m#mejorFitness_aux = fitness[np.argmin(fitness)]\u001b[0m\u001b[0;34m\u001b[0m\u001b[0;34m\u001b[0m\u001b[0m\n\u001b[1;32m     24\u001b[0m \u001b[0mmejorFitness\u001b[0m \u001b[0;34m=\u001b[0m \u001b[0mnp\u001b[0m\u001b[0;34m.\u001b[0m\u001b[0mmin\u001b[0m\u001b[0;34m(\u001b[0m\u001b[0mfitness\u001b[0m\u001b[0;34m)\u001b[0m\u001b[0;34m\u001b[0m\u001b[0;34m\u001b[0m\u001b[0m\n",
            "\u001b[0;32m<ipython-input-7-7538d4fea3f8>\u001b[0m in \u001b[0;36mf1\u001b[0;34m(x)\u001b[0m\n\u001b[1;32m      1\u001b[0m \u001b[0;32mdef\u001b[0m \u001b[0mf1\u001b[0m\u001b[0;34m(\u001b[0m\u001b[0mx\u001b[0m\u001b[0;34m)\u001b[0m\u001b[0;34m:\u001b[0m\u001b[0;34m\u001b[0m\u001b[0;34m\u001b[0m\u001b[0m\n\u001b[0;32m----> 2\u001b[0;31m   \u001b[0;32mreturn\u001b[0m \u001b[0;34m(\u001b[0m\u001b[0;34m-\u001b[0m\u001b[0;36m1\u001b[0m\u001b[0;34m)\u001b[0m\u001b[0;34m*\u001b[0m\u001b[0mx\u001b[0m\u001b[0;34m*\u001b[0m\u001b[0mnp\u001b[0m\u001b[0;34m.\u001b[0m\u001b[0msin\u001b[0m\u001b[0;34m(\u001b[0m\u001b[0mnp\u001b[0m\u001b[0;34m.\u001b[0m\u001b[0msqrt\u001b[0m\u001b[0;34m(\u001b[0m\u001b[0mnp\u001b[0m\u001b[0;34m.\u001b[0m\u001b[0mabs\u001b[0m\u001b[0;34m(\u001b[0m\u001b[0mx\u001b[0m\u001b[0;34m)\u001b[0m\u001b[0;34m)\u001b[0m\u001b[0;34m)\u001b[0m\u001b[0;34m\u001b[0m\u001b[0;34m\u001b[0m\u001b[0m\n\u001b[0m",
            "\u001b[0;31mTypeError\u001b[0m: loop of ufunc does not support argument 0 of type float which has no callable sqrt method"
          ]
        }
      ]
    }
  ]
}